{
 "cells": [
  {
   "cell_type": "markdown",
   "metadata": {},
   "source": [
    "# Models"
   ]
  },
  {
   "cell_type": "code",
   "execution_count": 1,
   "metadata": {},
   "outputs": [],
   "source": [
    "import numpy as np\n",
    "import torch \n",
    "import math\n",
    "import pandas as pd\n",
    "import matplotlib.pyplot as plt"
   ]
  },
  {
   "cell_type": "code",
   "execution_count": 2,
   "metadata": {},
   "outputs": [],
   "source": [
    "import generate_sets_hugo as g"
   ]
  },
  {
   "cell_type": "markdown",
   "metadata": {},
   "source": [
    "**Definition**\n",
    "\n",
    "To allow unbiased comparison between frameworks, the following definition of the MSE loss was used:\n",
    "\n",
    "\\begin{equation}\n",
    "C = \\Sigma \\| y(x) - a \\| ^2\n",
    "\\end{equation}\n"
   ]
  },
  {
   "cell_type": "markdown",
   "metadata": {},
   "source": [
    "## Framework 1: our framework"
   ]
  },
  {
   "cell_type": "code",
   "execution_count": 64,
   "metadata": {},
   "outputs": [
    {
     "data": {
      "text/html": [
       "<div>\n",
       "<style scoped>\n",
       "    .dataframe tbody tr th:only-of-type {\n",
       "        vertical-align: middle;\n",
       "    }\n",
       "\n",
       "    .dataframe tbody tr th {\n",
       "        vertical-align: top;\n",
       "    }\n",
       "\n",
       "    .dataframe thead th {\n",
       "        text-align: right;\n",
       "    }\n",
       "</style>\n",
       "<table border=\"1\" class=\"dataframe\">\n",
       "  <thead>\n",
       "    <tr style=\"text-align: right;\">\n",
       "      <th></th>\n",
       "      <th>test_loss</th>\n",
       "    </tr>\n",
       "  </thead>\n",
       "  <tbody>\n",
       "    <tr>\n",
       "      <th>0</th>\n",
       "      <td>0.709653</td>\n",
       "    </tr>\n",
       "    <tr>\n",
       "      <th>1</th>\n",
       "      <td>0.706177</td>\n",
       "    </tr>\n",
       "    <tr>\n",
       "      <th>2</th>\n",
       "      <td>0.699403</td>\n",
       "    </tr>\n",
       "    <tr>\n",
       "      <th>3</th>\n",
       "      <td>0.689369</td>\n",
       "    </tr>\n",
       "    <tr>\n",
       "      <th>4</th>\n",
       "      <td>0.675951</td>\n",
       "    </tr>\n",
       "  </tbody>\n",
       "</table>\n",
       "</div>"
      ],
      "text/plain": [
       "   test_loss\n",
       "0   0.709653\n",
       "1   0.706177\n",
       "2   0.699403\n",
       "3   0.689369\n",
       "4   0.675951"
      ]
     },
     "execution_count": 64,
     "metadata": {},
     "output_type": "execute_result"
    }
   ],
   "source": [
    "df_m1 = pd.read_json(\"loss_hugo.json\")\n",
    "df_m1.head()"
   ]
  },
  {
   "cell_type": "code",
   "execution_count": 65,
   "metadata": {},
   "outputs": [
    {
     "data": {
      "text/plain": [
       "[<matplotlib.lines.Line2D at 0x1c359afe940>]"
      ]
     },
     "execution_count": 65,
     "metadata": {},
     "output_type": "execute_result"
    },
    {
     "data": {
      "image/png": "[encoded data removed]",
      "text/plain": [
       "<Figure size 432x288 with 1 Axes>"
      ]
     },
     "metadata": {
      "needs_background": "light"
     },
     "output_type": "display_data"
    }
   ],
   "source": [
    "plt.plot(df_m1['test_loss'])"
   ]
  },
  {
   "cell_type": "markdown",
   "metadata": {},
   "source": [
    "## Framework 2: M. Nielsen framework"
   ]
  },
  {
   "cell_type": "code",
   "execution_count": 36,
   "metadata": {},
   "outputs": [],
   "source": [
    "#df_test = pd.read_json(\"test.json\")\n",
    "#df_test"
   ]
  },
  {
   "cell_type": "code",
   "execution_count": 12,
   "metadata": {},
   "outputs": [
    {
     "data": {
      "text/html": [
       "<div>\n",
       "<style scoped>\n",
       "    .dataframe tbody tr th:only-of-type {\n",
       "        vertical-align: middle;\n",
       "    }\n",
       "\n",
       "    .dataframe tbody tr th {\n",
       "        vertical-align: top;\n",
       "    }\n",
       "\n",
       "    .dataframe thead th {\n",
       "        text-align: right;\n",
       "    }\n",
       "</style>\n",
       "<table border=\"1\" class=\"dataframe\">\n",
       "  <thead>\n",
       "    <tr style=\"text-align: right;\">\n",
       "      <th></th>\n",
       "      <th>train_cost</th>\n",
       "      <th>eval_cost</th>\n",
       "      <th>train_accuracy</th>\n",
       "      <th>test_accuracy</th>\n",
       "    </tr>\n",
       "  </thead>\n",
       "  <tbody>\n",
       "    <tr>\n",
       "      <th>0</th>\n",
       "      <td>0.216555</td>\n",
       "      <td>0.274679</td>\n",
       "      <td>0.684</td>\n",
       "      <td>[[314], [686]]</td>\n",
       "    </tr>\n",
       "    <tr>\n",
       "      <th>1</th>\n",
       "      <td>0.218216</td>\n",
       "      <td>0.303609</td>\n",
       "      <td>0.684</td>\n",
       "      <td>[[314], [686]]</td>\n",
       "    </tr>\n",
       "    <tr>\n",
       "      <th>2</th>\n",
       "      <td>0.216287</td>\n",
       "      <td>0.292043</td>\n",
       "      <td>0.684</td>\n",
       "      <td>[[314], [686]]</td>\n",
       "    </tr>\n",
       "    <tr>\n",
       "      <th>3</th>\n",
       "      <td>0.218150</td>\n",
       "      <td>0.304520</td>\n",
       "      <td>0.684</td>\n",
       "      <td>[[314], [686]]</td>\n",
       "    </tr>\n",
       "    <tr>\n",
       "      <th>4</th>\n",
       "      <td>0.216550</td>\n",
       "      <td>0.296238</td>\n",
       "      <td>0.684</td>\n",
       "      <td>[[314], [686]]</td>\n",
       "    </tr>\n",
       "  </tbody>\n",
       "</table>\n",
       "</div>"
      ],
      "text/plain": [
       "   train_cost  eval_cost  train_accuracy   test_accuracy\n",
       "0    0.216555   0.274679           0.684  [[314], [686]]\n",
       "1    0.218216   0.303609           0.684  [[314], [686]]\n",
       "2    0.216287   0.292043           0.684  [[314], [686]]\n",
       "3    0.218150   0.304520           0.684  [[314], [686]]\n",
       "4    0.216550   0.296238           0.684  [[314], [686]]"
      ]
     },
     "execution_count": 12,
     "metadata": {},
     "output_type": "execute_result"
    }
   ],
   "source": [
    "n=1000\n",
    "df_m2 = pd.read_json(\"all_params.json\")\n",
    "df_m2['train_accuracy'] = df_m2['train_accuracy'] / n\n",
    "# Solve format problem\n",
    "#for i in range(len)\n",
    "#df_m2['test_accuracy'] = df_m2['test_accuracy'][1] / n\n",
    "df_m2.head()"
   ]
  },
  {
   "cell_type": "code",
   "execution_count": 22,
   "metadata": {},
   "outputs": [
    {
     "data": {
      "text/plain": [
       "[<matplotlib.lines.Line2D at 0x22286858198>]"
      ]
     },
     "execution_count": 22,
     "metadata": {},
     "output_type": "execute_result"
    },
    {
     "data": {
      "image/png": "[encoded data removed]",
      "text/plain": [
       "<Figure size 432x288 with 1 Axes>"
      ]
     },
     "metadata": {
      "needs_background": "light"
     },
     "output_type": "display_data"
    }
   ],
   "source": [
    "plt.plot(df_m2['train_cost'])"
   ]
  },
  {
   "cell_type": "code",
   "execution_count": 18,
   "metadata": {},
   "outputs": [
    {
     "data": {
      "text/plain": [
       "(100, 4)"
      ]
     },
     "execution_count": 18,
     "metadata": {},
     "output_type": "execute_result"
    }
   ],
   "source": [
    "df_m2_2 = pd.read_json(\"100_epochs_2.json\")\n",
    "df_m2_2.shape"
   ]
  },
  {
   "cell_type": "code",
   "execution_count": 20,
   "metadata": {},
   "outputs": [
    {
     "data": {
      "text/plain": [
       "[<matplotlib.lines.Line2D at 0x2228654c7b8>]"
      ]
     },
     "execution_count": 20,
     "metadata": {},
     "output_type": "execute_result"
    },
    {
     "data": {
      "image/png": "[encoded data removed]",
      "text/plain": [
       "<Figure size 432x288 with 1 Axes>"
      ]
     },
     "metadata": {
      "needs_background": "light"
     },
     "output_type": "display_data"
    }
   ],
   "source": [
    "plt.plot(df_m2_2['eval_cost'])"
   ]
  },
  {
   "cell_type": "code",
   "execution_count": 11,
   "metadata": {},
   "outputs": [
    {
     "data": {
      "text/plain": [
       "Text(0.5, 1.0, 'Loss evolution during the training')"
      ]
     },
     "execution_count": 11,
     "metadata": {},
     "output_type": "execute_result"
    },
    {
     "data": {
      "image/png": "[encoded data removed]",
      "text/plain": [
       "<Figure size 864x432 with 1 Axes>"
      ]
     },
     "metadata": {
      "needs_background": "light"
     },
     "output_type": "display_data"
    }
   ],
   "source": [
    "#sample = df_m2['train_accuracy']\n",
    "#sample = sample[::2]\n",
    "#plt.plot(df_m2['eval_cost'])\n",
    "plt.subplots(figsize=(12, 6))\n",
    "plt.plot(df_m1['test_loss'], label='Framework 1')\n",
    "plt.plot(df_m2['eval_cost'], label='Framework 2')\n",
    "plt.xlabel('epochs')\n",
    "plt.ylabel('MSE loss')\n",
    "plt.title('Loss evolution during the training')"
   ]
  },
  {
   "cell_type": "code",
   "execution_count": 38,
   "metadata": {},
   "outputs": [
    {
     "data": {
      "text/html": [
       "<div>\n",
       "<style scoped>\n",
       "    .dataframe tbody tr th:only-of-type {\n",
       "        vertical-align: middle;\n",
       "    }\n",
       "\n",
       "    .dataframe tbody tr th {\n",
       "        vertical-align: top;\n",
       "    }\n",
       "\n",
       "    .dataframe thead th {\n",
       "        text-align: right;\n",
       "    }\n",
       "</style>\n",
       "<table border=\"1\" class=\"dataframe\">\n",
       "  <thead>\n",
       "    <tr style=\"text-align: right;\">\n",
       "      <th></th>\n",
       "      <th>train_cost</th>\n",
       "      <th>eval_cost</th>\n",
       "      <th>train_accuracy</th>\n",
       "      <th>test_accuracy</th>\n",
       "    </tr>\n",
       "  </thead>\n",
       "  <tbody>\n",
       "    <tr>\n",
       "      <th>0</th>\n",
       "      <td>0.208028</td>\n",
       "      <td>0.299017</td>\n",
       "      <td>705</td>\n",
       "      <td>[[342], [658]]</td>\n",
       "    </tr>\n",
       "    <tr>\n",
       "      <th>1</th>\n",
       "      <td>0.207945</td>\n",
       "      <td>0.285550</td>\n",
       "      <td>705</td>\n",
       "      <td>[[342], [658]]</td>\n",
       "    </tr>\n",
       "    <tr>\n",
       "      <th>2</th>\n",
       "      <td>0.207669</td>\n",
       "      <td>0.288002</td>\n",
       "      <td>705</td>\n",
       "      <td>[[342], [658]]</td>\n",
       "    </tr>\n",
       "    <tr>\n",
       "      <th>3</th>\n",
       "      <td>0.212893</td>\n",
       "      <td>0.267446</td>\n",
       "      <td>705</td>\n",
       "      <td>[[342], [658]]</td>\n",
       "    </tr>\n",
       "    <tr>\n",
       "      <th>4</th>\n",
       "      <td>0.207603</td>\n",
       "      <td>0.299315</td>\n",
       "      <td>705</td>\n",
       "      <td>[[342], [658]]</td>\n",
       "    </tr>\n",
       "  </tbody>\n",
       "</table>\n",
       "</div>"
      ],
      "text/plain": [
       "   train_cost  eval_cost  train_accuracy   test_accuracy\n",
       "0    0.208028   0.299017             705  [[342], [658]]\n",
       "1    0.207945   0.285550             705  [[342], [658]]\n",
       "2    0.207669   0.288002             705  [[342], [658]]\n",
       "3    0.212893   0.267446             705  [[342], [658]]\n",
       "4    0.207603   0.299315             705  [[342], [658]]"
      ]
     },
     "execution_count": 38,
     "metadata": {},
     "output_type": "execute_result"
    }
   ],
   "source": [
    "# 100 epochs\n",
    "df_100_epochs = pd.read_json(\"100_epochs.json\")\n",
    "df_100_epochs.head()"
   ]
  },
  {
   "cell_type": "markdown",
   "metadata": {},
   "source": [
    "## Framework 3: PyTorch "
   ]
  },
  {
   "cell_type": "code",
   "execution_count": 3,
   "metadata": {},
   "outputs": [],
   "source": [
    "import torch.nn as nn\n",
    "import torch.nn.functional as F\n",
    "from torch import optim"
   ]
  },
  {
   "cell_type": "code",
   "execution_count": 4,
   "metadata": {},
   "outputs": [],
   "source": [
    "class Net(nn.Module):\n",
    "    def __init__(self):\n",
    "        super(Net, self).__init__()\n",
    "        self.fc1 = nn.Linear(2,25)\n",
    "        self.fc2 = nn.Linear(25,25)\n",
    "        self.fc3 = nn.Linear(25,25)\n",
    "        self.fc4 = nn.Linear(25,2)\n",
    "    def forward(self,x):\n",
    "        x = F.relu(self.fc1(x))\n",
    "        x = F.relu(self.fc2(x))\n",
    "        x = F.relu(self.fc3(x))\n",
    "        x = F.sigmoid(self.fc4(x))\n",
    "        return x"
   ]
  },
  {
   "cell_type": "code",
   "execution_count": 5,
   "metadata": {},
   "outputs": [],
   "source": [
    "def compute_nb_errors(model, data_input, data_target):\n",
    "\n",
    "    nb_data_errors = 0\n",
    "    \n",
    "    for b in range(0, data_input.size(0), mini_batch_size):\n",
    "        output = model(data_input.narrow(0, b, mini_batch_size))\n",
    "        _, predicted_classes = torch.max(output.data, 1)\n",
    "                \n",
    "        for k in range(mini_batch_size):\n",
    "            if data_target.data[b + k] != predicted_classes[k]:\n",
    "                nb_data_errors = nb_data_errors + 1\n",
    "                \n",
    "    return nb_data_errors"
   ]
  },
  {
   "cell_type": "code",
   "execution_count": 14,
   "metadata": {},
   "outputs": [],
   "source": [
    "# Define function computing accuracy for prediction\n",
    "def accuracy(y_predicted, y_actual):\n",
    "    \"\"\"\n",
    "    Accuracy of binary prediction with values 0, 1\n",
    "    Convert both entry tensors to numpy\n",
    "    \"\"\"\n",
    "    if (type(y_predicted) == torch.Tensor):\n",
    "        y_predicted = y_predicted.detach().numpy()\n",
    "        y_actual = y_actual.detach().numpy()\n",
    "        #Note: without detach > error message: Can't call numpy() on Variable that requires grad\n",
    "        \n",
    "    return np.sum(y_predicted == y_actual) / len(y_actual)"
   ]
  },
  {
   "cell_type": "code",
   "execution_count": 6,
   "metadata": {},
   "outputs": [],
   "source": [
    "def train_model(model, train_input, h_train_target, train_target, mini_batch_size, monitor_params):\n",
    "    #mini_batch_size = 100\n",
    "    '''\n",
    "    h_train_target: one-hot encoding target. Required for MSELoss (TODO: moduler avec 'if')\n",
    "    train_target: normal targets. Required to compute the error\n",
    "    '''\n",
    "    \n",
    "    criterion = nn.MSELoss()\n",
    "    #criterion = nn.CrossEntropyLoss()\n",
    "    #optimizer = optim.SGD(model.parameters(), lr = 1e-3)\n",
    "    optimizer = optim.Adam(model.parameters(), lr = 1e-3)\n",
    "    nb_epochs = 100\n",
    "    \n",
    "    loss_storage = []\n",
    "    error_storage = []\n",
    "    accuracy_storage = []\n",
    "    \n",
    "    for e in range(nb_epochs):\n",
    "        sum_loss = 0\n",
    "        sum_error = 0\n",
    "        sum_acc = 0\n",
    "        for b in range(0, train_input.size(0), mini_batch_size):\n",
    "            output = model(train_input.narrow(0, b, mini_batch_size))\n",
    "            \n",
    "            ### Compute class from the output ###\n",
    "            _, predicted_classes = torch.max(output.data, 1)\n",
    "            \n",
    "            ### Compute loss ###\n",
    "            loss = criterion(output, h_train_target.narrow(0, b, mini_batch_size))\n",
    "            \n",
    "            ### Compute train error ###\n",
    "            nb_errors = 0\n",
    "            for k in range(mini_batch_size):\n",
    "                if train_target.data[b + k] != predicted_classes[k]:\n",
    "                    nb_errors = nb_errors + 1\n",
    "            \n",
    "            ### Compute accuracy ### \n",
    "            acc = accuracy(predicted_classes, train_target.narrow(0, b, mini_batch_size))\n",
    "            \n",
    "            sum_loss += loss.item() # compute loss for each mini batch for 1 epoch\n",
    "            sum_error += nb_errors\n",
    "            sum_acc += acc # ok\n",
    "            \n",
    "            model.zero_grad()\n",
    "            loss.backward()\n",
    "            optimizer.step()\n",
    "        \n",
    "        loss_storage.append(sum_loss)\n",
    "        error_storage.append(sum_error)\n",
    "        accuracy_storage.append(sum_acc)\n",
    "                \n",
    "        print('[epoch {:d}] loss: {:0.2f} error: {} accuracy: {}'.format(e+1, sum_loss, sum_error, sum_acc))\n",
    "        \n",
    "    \n",
    "    if monitor_params:\n",
    "        return loss_storage, error_storage, accuracy_storage"
   ]
  },
  {
   "cell_type": "markdown",
   "metadata": {},
   "source": [
    "#### Main"
   ]
  },
  {
   "cell_type": "code",
   "execution_count": 7,
   "metadata": {},
   "outputs": [],
   "source": [
    "from torch.autograd import Variable"
   ]
  },
  {
   "cell_type": "code",
   "execution_count": 8,
   "metadata": {},
   "outputs": [
    {
     "name": "stdout",
     "output_type": "stream",
     "text": [
      "torch.Size([1000, 2])\n",
      "torch.Size([1000])\n",
      "torch.Size([1000, 2])\n",
      "torch.Size([1000])\n"
     ]
    }
   ],
   "source": [
    "train_input, train_target, test_input, test_target = g.generate_sets()\n",
    "\n",
    "train_target = train_target.long().view(1000)\n",
    "test_target = test_target.long().view(1000)\n",
    "\n",
    "train_input, train_target = Variable(train_input), Variable(train_target)\n",
    "test_input, test_target = Variable(test_input), Variable(test_target)\n",
    "\n",
    "#Sanity check\n",
    "print(train_input.shape)\n",
    "print(train_target.shape)\n",
    "print(test_input.shape)\n",
    "print(test_target.shape)"
   ]
  },
  {
   "cell_type": "code",
   "execution_count": 9,
   "metadata": {},
   "outputs": [],
   "source": [
    "def generate_sets(nb_train = 1000, nb_test = 1000):\n",
    "    # data\n",
    "    train_set = torch.Tensor(nb_train, 2).uniform_(0, 1)\n",
    "    test_set = torch.Tensor(nb_test, 2).uniform_(0, 1)\n",
    "    # labels\n",
    "    train_target = train_set.pow(2).sum(1).sub(1 / (2 * math.pi)).sign().add(1).div(2).long()\n",
    "    test_target = test_set.pow(2).sum(1).sub(1 / (2 * math.pi)).sign().add(1).div(2).long()\n",
    "    \n",
    "    return train_set, test_set, train_target, test_target  "
   ]
  },
  {
   "cell_type": "code",
   "execution_count": 10,
   "metadata": {},
   "outputs": [
    {
     "name": "stdout",
     "output_type": "stream",
     "text": [
      "torch.Size([1000, 2])\n",
      "torch.Size([1000])\n",
      "torch.Size([1000, 2])\n",
      "torch.Size([1000])\n"
     ]
    }
   ],
   "source": [
    "train_input, test_input, train_target, test_target = generate_sets()\n",
    "train_input, train_target = Variable(train_input), Variable(train_target)\n",
    "test_input, test_target = Variable(test_input), Variable(test_target)\n",
    "\n",
    "#Sanity check\n",
    "print(train_input.shape)\n",
    "print(train_target.shape)\n",
    "print(test_input.shape)\n",
    "print(test_target.shape)"
   ]
  },
  {
   "cell_type": "code",
   "execution_count": 11,
   "metadata": {},
   "outputs": [],
   "source": [
    "# I guess we need one-hot encoding format for MSELoss\n",
    "def one_hot(labels, nb_labels):\n",
    "    '''\n",
    "    input labels can be either np array or tensors\n",
    "    output is a torch.tensor\n",
    "    '''\n",
    "    if (type(labels) == np.ndarray):\n",
    "        h_labels = (np.arange(nb_labels) == labels[:, None]).astype(np.float32)\n",
    "\n",
    "    elif (type(labels) == torch.Tensor):\n",
    "        h_labels = labels.numpy()\n",
    "        h_labels = (np.arange(nb_labels) == h_labels[:, None]).astype(np.float32)\n",
    "        \n",
    "    else:\n",
    "        raise ValueError('The input type must be either numpy.ndarray or torch.Tensor')\n",
    "    \n",
    "    return torch.Tensor(h_labels) "
   ]
  },
  {
   "cell_type": "code",
   "execution_count": 12,
   "metadata": {},
   "outputs": [
    {
     "data": {
      "text/plain": [
       "torch.Size([1000, 2])"
      ]
     },
     "execution_count": 12,
     "metadata": {},
     "output_type": "execute_result"
    }
   ],
   "source": [
    "train_target_h = one_hot(train_target, 2)\n",
    "test_target_h = one_hot(test_target, 2)\n",
    "train_target_h.shape"
   ]
  },
  {
   "cell_type": "code",
   "execution_count": 61,
   "metadata": {
    "scrolled": true
   },
   "outputs": [
    {
     "name": "stdout",
     "output_type": "stream",
     "text": [
      "[epoch 1] loss: 24.37\n",
      "[epoch 2] loss: 23.64\n",
      "[epoch 3] loss: 23.01\n",
      "[epoch 4] loss: 22.46\n",
      "[epoch 5] loss: 21.97\n",
      "[epoch 6] loss: 21.54\n",
      "[epoch 7] loss: 21.16\n",
      "[epoch 8] loss: 20.84\n",
      "[epoch 9] loss: 20.56\n",
      "[epoch 10] loss: 20.32\n",
      "[epoch 11] loss: 20.12\n",
      "[epoch 12] loss: 19.95\n",
      "[epoch 13] loss: 19.81\n",
      "[epoch 14] loss: 19.68\n",
      "[epoch 15] loss: 19.56\n",
      "[epoch 16] loss: 19.45\n",
      "[epoch 17] loss: 19.34\n",
      "[epoch 18] loss: 19.23\n",
      "[epoch 19] loss: 19.12\n",
      "[epoch 20] loss: 19.01\n",
      "[epoch 21] loss: 18.88\n",
      "[epoch 22] loss: 18.75\n",
      "[epoch 23] loss: 18.60\n",
      "[epoch 24] loss: 18.45\n",
      "[epoch 25] loss: 18.28\n",
      "[epoch 26] loss: 18.09\n",
      "[epoch 27] loss: 17.89\n",
      "[epoch 28] loss: 17.66\n",
      "[epoch 29] loss: 17.41\n",
      "[epoch 30] loss: 17.13\n",
      "[epoch 31] loss: 16.83\n",
      "[epoch 32] loss: 16.49\n",
      "[epoch 33] loss: 16.12\n",
      "[epoch 34] loss: 15.73\n",
      "[epoch 35] loss: 15.34\n",
      "[epoch 36] loss: 14.94\n",
      "[epoch 37] loss: 14.54\n",
      "[epoch 38] loss: 14.15\n",
      "[epoch 39] loss: 13.78\n",
      "[epoch 40] loss: 13.41\n",
      "[epoch 41] loss: 13.06\n",
      "[epoch 42] loss: 12.70\n",
      "[epoch 43] loss: 12.36\n",
      "[epoch 44] loss: 12.03\n",
      "[epoch 45] loss: 11.71\n",
      "[epoch 46] loss: 11.40\n",
      "[epoch 47] loss: 11.09\n",
      "[epoch 48] loss: 10.79\n",
      "[epoch 49] loss: 10.49\n",
      "[epoch 50] loss: 10.20\n",
      "[epoch 51] loss: 9.91\n",
      "[epoch 52] loss: 9.63\n",
      "[epoch 53] loss: 9.36\n",
      "[epoch 54] loss: 9.09\n",
      "[epoch 55] loss: 8.82\n",
      "[epoch 56] loss: 8.56\n",
      "[epoch 57] loss: 8.30\n",
      "[epoch 58] loss: 8.04\n",
      "[epoch 59] loss: 7.80\n",
      "[epoch 60] loss: 7.56\n",
      "[epoch 61] loss: 7.32\n",
      "[epoch 62] loss: 7.09\n",
      "[epoch 63] loss: 6.87\n",
      "[epoch 64] loss: 6.66\n",
      "[epoch 65] loss: 6.46\n",
      "[epoch 66] loss: 6.26\n",
      "[epoch 67] loss: 6.08\n",
      "[epoch 68] loss: 5.90\n",
      "[epoch 69] loss: 5.73\n",
      "[epoch 70] loss: 5.57\n",
      "[epoch 71] loss: 5.42\n",
      "[epoch 72] loss: 5.27\n",
      "[epoch 73] loss: 5.14\n",
      "[epoch 74] loss: 5.01\n",
      "[epoch 75] loss: 4.89\n",
      "[epoch 76] loss: 4.78\n",
      "[epoch 77] loss: 4.67\n",
      "[epoch 78] loss: 4.58\n",
      "[epoch 79] loss: 4.48\n",
      "[epoch 80] loss: 4.39\n",
      "[epoch 81] loss: 4.31\n",
      "[epoch 82] loss: 4.23\n",
      "[epoch 83] loss: 4.15\n",
      "[epoch 84] loss: 4.08\n",
      "[epoch 85] loss: 4.01\n",
      "[epoch 86] loss: 3.95\n",
      "[epoch 87] loss: 3.89\n",
      "[epoch 88] loss: 3.83\n",
      "[epoch 89] loss: 3.77\n",
      "[epoch 90] loss: 3.72\n",
      "[epoch 91] loss: 3.66\n",
      "[epoch 92] loss: 3.61\n",
      "[epoch 93] loss: 3.57\n",
      "[epoch 94] loss: 3.52\n",
      "[epoch 95] loss: 3.48\n",
      "[epoch 96] loss: 3.43\n",
      "[epoch 97] loss: 3.39\n",
      "[epoch 98] loss: 3.35\n",
      "[epoch 99] loss: 3.31\n",
      "[epoch 100] loss: 3.27\n",
      "[epoch 101] loss: 3.23\n",
      "[epoch 102] loss: 3.20\n",
      "[epoch 103] loss: 3.16\n",
      "[epoch 104] loss: 3.13\n",
      "[epoch 105] loss: 3.10\n",
      "[epoch 106] loss: 3.06\n",
      "[epoch 107] loss: 3.03\n",
      "[epoch 108] loss: 3.00\n",
      "[epoch 109] loss: 2.97\n",
      "[epoch 110] loss: 2.94\n",
      "[epoch 111] loss: 2.91\n",
      "[epoch 112] loss: 2.89\n",
      "[epoch 113] loss: 2.86\n",
      "[epoch 114] loss: 2.83\n",
      "[epoch 115] loss: 2.80\n",
      "[epoch 116] loss: 2.78\n",
      "[epoch 117] loss: 2.75\n",
      "[epoch 118] loss: 2.73\n",
      "[epoch 119] loss: 2.70\n",
      "[epoch 120] loss: 2.68\n",
      "[epoch 121] loss: 2.65\n",
      "[epoch 122] loss: 2.63\n",
      "[epoch 123] loss: 2.61\n",
      "[epoch 124] loss: 2.58\n",
      "[epoch 125] loss: 2.56\n",
      "[epoch 126] loss: 2.54\n",
      "[epoch 127] loss: 2.51\n",
      "[epoch 128] loss: 2.49\n",
      "[epoch 129] loss: 2.47\n",
      "[epoch 130] loss: 2.45\n",
      "[epoch 131] loss: 2.43\n",
      "[epoch 132] loss: 2.41\n",
      "[epoch 133] loss: 2.39\n",
      "[epoch 134] loss: 2.37\n",
      "[epoch 135] loss: 2.35\n",
      "[epoch 136] loss: 2.33\n",
      "[epoch 137] loss: 2.31\n",
      "[epoch 138] loss: 2.29\n",
      "[epoch 139] loss: 2.27\n",
      "[epoch 140] loss: 2.25\n",
      "[epoch 141] loss: 2.23\n",
      "[epoch 142] loss: 2.21\n",
      "[epoch 143] loss: 2.19\n",
      "[epoch 144] loss: 2.18\n",
      "[epoch 145] loss: 2.16\n",
      "[epoch 146] loss: 2.14\n",
      "[epoch 147] loss: 2.12\n",
      "[epoch 148] loss: 2.11\n",
      "[epoch 149] loss: 2.09\n",
      "[epoch 150] loss: 2.07\n",
      "[epoch 151] loss: 2.05\n",
      "[epoch 152] loss: 2.04\n",
      "[epoch 153] loss: 2.02\n",
      "[epoch 154] loss: 2.01\n",
      "[epoch 155] loss: 1.99\n",
      "[epoch 156] loss: 1.97\n",
      "[epoch 157] loss: 1.96\n",
      "[epoch 158] loss: 1.94\n",
      "[epoch 159] loss: 1.93\n",
      "[epoch 160] loss: 1.91\n",
      "[epoch 161] loss: 1.90\n",
      "[epoch 162] loss: 1.89\n",
      "[epoch 163] loss: 1.87\n",
      "[epoch 164] loss: 1.86\n",
      "[epoch 165] loss: 1.84\n",
      "[epoch 166] loss: 1.83\n",
      "[epoch 167] loss: 1.82\n",
      "[epoch 168] loss: 1.80\n",
      "[epoch 169] loss: 1.79\n",
      "[epoch 170] loss: 1.78\n",
      "[epoch 171] loss: 1.76\n",
      "[epoch 172] loss: 1.75\n",
      "[epoch 173] loss: 1.74\n",
      "[epoch 174] loss: 1.73\n",
      "[epoch 175] loss: 1.72\n",
      "[epoch 176] loss: 1.70\n",
      "[epoch 177] loss: 1.69\n",
      "[epoch 178] loss: 1.68\n",
      "[epoch 179] loss: 1.67\n",
      "[epoch 180] loss: 1.66\n",
      "[epoch 181] loss: 1.65\n",
      "[epoch 182] loss: 1.64\n",
      "[epoch 183] loss: 1.63\n",
      "[epoch 184] loss: 1.62\n",
      "[epoch 185] loss: 1.61\n",
      "[epoch 186] loss: 1.60\n",
      "[epoch 187] loss: 1.59\n",
      "[epoch 188] loss: 1.58\n",
      "[epoch 189] loss: 1.57\n",
      "[epoch 190] loss: 1.56\n",
      "[epoch 191] loss: 1.55\n",
      "[epoch 192] loss: 1.54\n",
      "[epoch 193] loss: 1.53\n",
      "[epoch 194] loss: 1.52\n",
      "[epoch 195] loss: 1.51\n",
      "[epoch 196] loss: 1.50\n",
      "[epoch 197] loss: 1.50\n",
      "[epoch 198] loss: 1.49\n",
      "[epoch 199] loss: 1.48\n",
      "[epoch 200] loss: 1.47\n",
      "[epoch 201] loss: 1.46\n",
      "[epoch 202] loss: 1.46\n",
      "[epoch 203] loss: 1.45\n",
      "[epoch 204] loss: 1.44\n",
      "[epoch 205] loss: 1.43\n",
      "[epoch 206] loss: 1.43\n",
      "[epoch 207] loss: 1.42\n",
      "[epoch 208] loss: 1.41\n",
      "[epoch 209] loss: 1.40\n",
      "[epoch 210] loss: 1.40\n",
      "[epoch 211] loss: 1.39\n",
      "[epoch 212] loss: 1.38\n",
      "[epoch 213] loss: 1.38\n",
      "[epoch 214] loss: 1.37\n",
      "[epoch 215] loss: 1.36\n",
      "[epoch 216] loss: 1.36\n",
      "[epoch 217] loss: 1.35\n",
      "[epoch 218] loss: 1.34\n",
      "[epoch 219] loss: 1.34\n",
      "[epoch 220] loss: 1.33\n",
      "[epoch 221] loss: 1.33\n",
      "[epoch 222] loss: 1.32\n",
      "[epoch 223] loss: 1.31\n",
      "[epoch 224] loss: 1.31\n",
      "[epoch 225] loss: 1.30\n",
      "[epoch 226] loss: 1.30\n",
      "[epoch 227] loss: 1.29\n",
      "[epoch 228] loss: 1.29\n",
      "[epoch 229] loss: 1.28\n",
      "[epoch 230] loss: 1.28\n",
      "[epoch 231] loss: 1.27\n",
      "[epoch 232] loss: 1.27\n",
      "[epoch 233] loss: 1.26\n",
      "[epoch 234] loss: 1.25\n",
      "[epoch 235] loss: 1.25\n",
      "[epoch 236] loss: 1.24\n",
      "[epoch 237] loss: 1.24\n",
      "[epoch 238] loss: 1.24\n",
      "[epoch 239] loss: 1.23\n",
      "[epoch 240] loss: 1.23\n",
      "[epoch 241] loss: 1.22\n",
      "[epoch 242] loss: 1.22\n",
      "[epoch 243] loss: 1.21\n",
      "[epoch 244] loss: 1.21\n",
      "[epoch 245] loss: 1.20\n",
      "[epoch 246] loss: 1.20\n",
      "[epoch 247] loss: 1.20\n",
      "[epoch 248] loss: 1.19\n",
      "[epoch 249] loss: 1.19\n",
      "[epoch 250] loss: 1.18\n",
      "[epoch 251] loss: 1.18\n",
      "[epoch 252] loss: 1.17\n",
      "[epoch 253] loss: 1.17\n",
      "[epoch 254] loss: 1.17\n",
      "[epoch 255] loss: 1.16\n",
      "[epoch 256] loss: 1.16\n",
      "[epoch 257] loss: 1.16\n",
      "[epoch 258] loss: 1.15\n",
      "[epoch 259] loss: 1.15\n",
      "[epoch 260] loss: 1.14\n",
      "[epoch 261] loss: 1.14\n",
      "[epoch 262] loss: 1.14\n",
      "[epoch 263] loss: 1.13\n",
      "[epoch 264] loss: 1.13\n",
      "[epoch 265] loss: 1.13\n",
      "[epoch 266] loss: 1.12\n",
      "[epoch 267] loss: 1.12\n",
      "[epoch 268] loss: 1.12\n",
      "[epoch 269] loss: 1.11\n",
      "[epoch 270] loss: 1.11\n",
      "[epoch 271] loss: 1.11\n",
      "[epoch 272] loss: 1.10\n",
      "[epoch 273] loss: 1.10\n",
      "[epoch 274] loss: 1.10\n",
      "[epoch 275] loss: 1.09\n",
      "[epoch 276] loss: 1.09\n",
      "[epoch 277] loss: 1.09\n",
      "[epoch 278] loss: 1.08\n",
      "[epoch 279] loss: 1.08\n",
      "[epoch 280] loss: 1.08\n",
      "[epoch 281] loss: 1.07\n",
      "[epoch 282] loss: 1.07\n",
      "[epoch 283] loss: 1.07\n",
      "[epoch 284] loss: 1.07\n",
      "[epoch 285] loss: 1.06\n",
      "[epoch 286] loss: 1.06\n",
      "[epoch 287] loss: 1.06\n",
      "[epoch 288] loss: 1.05\n",
      "[epoch 289] loss: 1.05\n",
      "[epoch 290] loss: 1.05\n",
      "[epoch 291] loss: 1.05\n",
      "[epoch 292] loss: 1.04\n",
      "[epoch 293] loss: 1.04\n",
      "[epoch 294] loss: 1.04\n",
      "[epoch 295] loss: 1.04\n",
      "[epoch 296] loss: 1.03\n",
      "[epoch 297] loss: 1.03\n",
      "[epoch 298] loss: 1.03\n",
      "[epoch 299] loss: 1.03\n",
      "[epoch 300] loss: 1.02\n",
      "[epoch 301] loss: 1.02\n",
      "[epoch 302] loss: 1.02\n",
      "[epoch 303] loss: 1.02\n",
      "[epoch 304] loss: 1.01\n",
      "[epoch 305] loss: 1.01\n",
      "[epoch 306] loss: 1.01\n",
      "[epoch 307] loss: 1.01\n",
      "[epoch 308] loss: 1.01\n",
      "[epoch 309] loss: 1.00\n",
      "[epoch 310] loss: 1.00\n",
      "[epoch 311] loss: 1.00\n",
      "[epoch 312] loss: 1.00\n",
      "[epoch 313] loss: 0.99\n",
      "[epoch 314] loss: 0.99\n",
      "[epoch 315] loss: 0.99\n",
      "[epoch 316] loss: 0.99\n",
      "[epoch 317] loss: 0.99\n",
      "[epoch 318] loss: 0.98\n",
      "[epoch 319] loss: 0.98\n",
      "[epoch 320] loss: 0.98\n",
      "[epoch 321] loss: 0.98\n",
      "[epoch 322] loss: 0.97\n",
      "[epoch 323] loss: 0.97\n",
      "[epoch 324] loss: 0.97\n",
      "[epoch 325] loss: 0.97\n",
      "[epoch 326] loss: 0.97\n",
      "[epoch 327] loss: 0.96\n",
      "[epoch 328] loss: 0.96\n",
      "[epoch 329] loss: 0.96\n",
      "[epoch 330] loss: 0.96\n",
      "[epoch 331] loss: 0.96\n",
      "[epoch 332] loss: 0.96\n",
      "[epoch 333] loss: 0.95\n",
      "[epoch 334] loss: 0.95\n",
      "[epoch 335] loss: 0.95\n",
      "[epoch 336] loss: 0.95\n",
      "[epoch 337] loss: 0.95\n",
      "[epoch 338] loss: 0.94\n",
      "[epoch 339] loss: 0.94\n",
      "[epoch 340] loss: 0.94\n",
      "[epoch 341] loss: 0.94\n",
      "[epoch 342] loss: 0.94\n",
      "[epoch 343] loss: 0.94\n",
      "[epoch 344] loss: 0.93\n",
      "[epoch 345] loss: 0.93\n",
      "[epoch 346] loss: 0.93\n",
      "[epoch 347] loss: 0.93\n",
      "[epoch 348] loss: 0.93\n",
      "[epoch 349] loss: 0.93\n",
      "[epoch 350] loss: 0.92\n",
      "[epoch 351] loss: 0.92\n",
      "[epoch 352] loss: 0.92\n",
      "[epoch 353] loss: 0.92\n",
      "[epoch 354] loss: 0.92\n",
      "[epoch 355] loss: 0.92\n",
      "[epoch 356] loss: 0.92\n",
      "[epoch 357] loss: 0.91\n",
      "[epoch 358] loss: 0.91\n",
      "[epoch 359] loss: 0.91\n",
      "[epoch 360] loss: 0.91\n"
     ]
    },
    {
     "name": "stdout",
     "output_type": "stream",
     "text": [
      "[epoch 361] loss: 0.91\n",
      "[epoch 362] loss: 0.91\n",
      "[epoch 363] loss: 0.91\n",
      "[epoch 364] loss: 0.90\n",
      "[epoch 365] loss: 0.90\n",
      "[epoch 366] loss: 0.90\n",
      "[epoch 367] loss: 0.90\n",
      "[epoch 368] loss: 0.90\n",
      "[epoch 369] loss: 0.90\n",
      "[epoch 370] loss: 0.90\n",
      "[epoch 371] loss: 0.89\n",
      "[epoch 372] loss: 0.89\n",
      "[epoch 373] loss: 0.89\n",
      "[epoch 374] loss: 0.89\n",
      "[epoch 375] loss: 0.89\n",
      "[epoch 376] loss: 0.89\n",
      "[epoch 377] loss: 0.88\n",
      "[epoch 378] loss: 0.88\n",
      "[epoch 379] loss: 0.88\n",
      "[epoch 380] loss: 0.88\n",
      "[epoch 381] loss: 0.88\n",
      "[epoch 382] loss: 0.88\n",
      "[epoch 383] loss: 0.88\n",
      "[epoch 384] loss: 0.88\n",
      "[epoch 385] loss: 0.88\n",
      "[epoch 386] loss: 0.87\n",
      "[epoch 387] loss: 0.87\n",
      "[epoch 388] loss: 0.87\n",
      "[epoch 389] loss: 0.87\n",
      "[epoch 390] loss: 0.87\n",
      "[epoch 391] loss: 0.87\n",
      "[epoch 392] loss: 0.87\n",
      "[epoch 393] loss: 0.87\n",
      "[epoch 394] loss: 0.86\n",
      "[epoch 395] loss: 0.86\n",
      "[epoch 396] loss: 0.86\n",
      "[epoch 397] loss: 0.86\n",
      "[epoch 398] loss: 0.86\n",
      "[epoch 399] loss: 0.86\n",
      "[epoch 400] loss: 0.86\n",
      "[epoch 401] loss: 0.86\n",
      "[epoch 402] loss: 0.85\n",
      "[epoch 403] loss: 0.85\n",
      "[epoch 404] loss: 0.85\n",
      "[epoch 405] loss: 0.85\n",
      "[epoch 406] loss: 0.85\n",
      "[epoch 407] loss: 0.85\n",
      "[epoch 408] loss: 0.85\n",
      "[epoch 409] loss: 0.85\n",
      "[epoch 410] loss: 0.84\n",
      "[epoch 411] loss: 0.84\n",
      "[epoch 412] loss: 0.84\n",
      "[epoch 413] loss: 0.84\n",
      "[epoch 414] loss: 0.84\n",
      "[epoch 415] loss: 0.84\n",
      "[epoch 416] loss: 0.84\n",
      "[epoch 417] loss: 0.84\n",
      "[epoch 418] loss: 0.84\n",
      "[epoch 419] loss: 0.84\n",
      "[epoch 420] loss: 0.83\n",
      "[epoch 421] loss: 0.83\n",
      "[epoch 422] loss: 0.83\n",
      "[epoch 423] loss: 0.83\n",
      "[epoch 424] loss: 0.83\n",
      "[epoch 425] loss: 0.83\n",
      "[epoch 426] loss: 0.83\n",
      "[epoch 427] loss: 0.83\n",
      "[epoch 428] loss: 0.83\n",
      "[epoch 429] loss: 0.83\n",
      "[epoch 430] loss: 0.82\n",
      "[epoch 431] loss: 0.82\n",
      "[epoch 432] loss: 0.82\n",
      "[epoch 433] loss: 0.82\n",
      "[epoch 434] loss: 0.82\n",
      "[epoch 435] loss: 0.82\n",
      "[epoch 436] loss: 0.82\n",
      "[epoch 437] loss: 0.82\n",
      "[epoch 438] loss: 0.82\n",
      "[epoch 439] loss: 0.82\n",
      "[epoch 440] loss: 0.81\n",
      "[epoch 441] loss: 0.81\n",
      "[epoch 442] loss: 0.81\n",
      "[epoch 443] loss: 0.81\n",
      "[epoch 444] loss: 0.81\n",
      "[epoch 445] loss: 0.81\n",
      "[epoch 446] loss: 0.81\n",
      "[epoch 447] loss: 0.81\n",
      "[epoch 448] loss: 0.81\n",
      "[epoch 449] loss: 0.81\n",
      "[epoch 450] loss: 0.81\n",
      "[epoch 451] loss: 0.81\n",
      "[epoch 452] loss: 0.80\n",
      "[epoch 453] loss: 0.80\n",
      "[epoch 454] loss: 0.80\n",
      "[epoch 455] loss: 0.80\n",
      "[epoch 456] loss: 0.80\n",
      "[epoch 457] loss: 0.80\n",
      "[epoch 458] loss: 0.80\n",
      "[epoch 459] loss: 0.80\n",
      "[epoch 460] loss: 0.80\n",
      "[epoch 461] loss: 0.80\n",
      "[epoch 462] loss: 0.80\n",
      "[epoch 463] loss: 0.80\n",
      "[epoch 464] loss: 0.80\n",
      "[epoch 465] loss: 0.79\n",
      "[epoch 466] loss: 0.79\n",
      "[epoch 467] loss: 0.79\n",
      "[epoch 468] loss: 0.79\n",
      "[epoch 469] loss: 0.79\n",
      "[epoch 470] loss: 0.79\n",
      "[epoch 471] loss: 0.79\n",
      "[epoch 472] loss: 0.79\n",
      "[epoch 473] loss: 0.79\n",
      "[epoch 474] loss: 0.79\n",
      "[epoch 475] loss: 0.79\n",
      "[epoch 476] loss: 0.79\n",
      "[epoch 477] loss: 0.79\n",
      "[epoch 478] loss: 0.78\n",
      "[epoch 479] loss: 0.78\n",
      "[epoch 480] loss: 0.78\n",
      "[epoch 481] loss: 0.78\n",
      "[epoch 482] loss: 0.78\n",
      "[epoch 483] loss: 0.78\n",
      "[epoch 484] loss: 0.78\n",
      "[epoch 485] loss: 0.78\n",
      "[epoch 486] loss: 0.78\n",
      "[epoch 487] loss: 0.78\n",
      "[epoch 488] loss: 0.78\n",
      "[epoch 489] loss: 0.78\n",
      "[epoch 490] loss: 0.78\n",
      "[epoch 491] loss: 0.78\n",
      "[epoch 492] loss: 0.77\n",
      "[epoch 493] loss: 0.77\n",
      "[epoch 494] loss: 0.77\n",
      "[epoch 495] loss: 0.77\n",
      "[epoch 496] loss: 0.77\n",
      "[epoch 497] loss: 0.77\n",
      "[epoch 498] loss: 0.77\n",
      "[epoch 499] loss: 0.77\n",
      "[epoch 500] loss: 0.77\n",
      "[epoch 501] loss: 0.77\n",
      "[epoch 502] loss: 0.77\n",
      "[epoch 503] loss: 0.77\n",
      "[epoch 504] loss: 0.77\n",
      "[epoch 505] loss: 0.77\n",
      "[epoch 506] loss: 0.77\n",
      "[epoch 507] loss: 0.77\n",
      "[epoch 508] loss: 0.76\n",
      "[epoch 509] loss: 0.76\n",
      "[epoch 510] loss: 0.76\n",
      "[epoch 511] loss: 0.76\n",
      "[epoch 512] loss: 0.76\n",
      "[epoch 513] loss: 0.76\n",
      "[epoch 514] loss: 0.76\n",
      "[epoch 515] loss: 0.76\n",
      "[epoch 516] loss: 0.76\n",
      "[epoch 517] loss: 0.76\n",
      "[epoch 518] loss: 0.76\n",
      "[epoch 519] loss: 0.76\n",
      "[epoch 520] loss: 0.76\n",
      "[epoch 521] loss: 0.76\n",
      "[epoch 522] loss: 0.76\n",
      "[epoch 523] loss: 0.76\n",
      "[epoch 524] loss: 0.76\n",
      "[epoch 525] loss: 0.75\n",
      "[epoch 526] loss: 0.75\n",
      "[epoch 527] loss: 0.75\n",
      "[epoch 528] loss: 0.75\n",
      "[epoch 529] loss: 0.75\n",
      "[epoch 530] loss: 0.75\n",
      "[epoch 531] loss: 0.75\n",
      "[epoch 532] loss: 0.75\n",
      "[epoch 533] loss: 0.75\n",
      "[epoch 534] loss: 0.75\n",
      "[epoch 535] loss: 0.75\n",
      "[epoch 536] loss: 0.75\n",
      "[epoch 537] loss: 0.75\n",
      "[epoch 538] loss: 0.75\n",
      "[epoch 539] loss: 0.75\n",
      "[epoch 540] loss: 0.75\n",
      "[epoch 541] loss: 0.75\n",
      "[epoch 542] loss: 0.75\n",
      "[epoch 543] loss: 0.75\n",
      "[epoch 544] loss: 0.74\n",
      "[epoch 545] loss: 0.74\n",
      "[epoch 546] loss: 0.74\n",
      "[epoch 547] loss: 0.74\n",
      "[epoch 548] loss: 0.74\n",
      "[epoch 549] loss: 0.74\n",
      "[epoch 550] loss: 0.74\n",
      "[epoch 551] loss: 0.74\n",
      "[epoch 552] loss: 0.74\n",
      "[epoch 553] loss: 0.74\n",
      "[epoch 554] loss: 0.74\n",
      "[epoch 555] loss: 0.74\n",
      "[epoch 556] loss: 0.74\n",
      "[epoch 557] loss: 0.74\n",
      "[epoch 558] loss: 0.73\n",
      "[epoch 559] loss: 0.73\n",
      "[epoch 560] loss: 0.73\n",
      "[epoch 561] loss: 0.73\n",
      "[epoch 562] loss: 0.73\n",
      "[epoch 563] loss: 0.72\n",
      "[epoch 564] loss: 0.72\n",
      "[epoch 565] loss: 0.72\n",
      "[epoch 566] loss: 0.72\n",
      "[epoch 567] loss: 0.72\n",
      "[epoch 568] loss: 0.72\n",
      "[epoch 569] loss: 0.72\n",
      "[epoch 570] loss: 0.72\n",
      "[epoch 571] loss: 0.71\n",
      "[epoch 572] loss: 0.71\n",
      "[epoch 573] loss: 0.71\n",
      "[epoch 574] loss: 0.71\n",
      "[epoch 575] loss: 0.70\n",
      "[epoch 576] loss: 0.70\n",
      "[epoch 577] loss: 0.70\n",
      "[epoch 578] loss: 0.70\n",
      "[epoch 579] loss: 0.69\n",
      "[epoch 580] loss: 0.69\n",
      "[epoch 581] loss: 0.69\n",
      "[epoch 582] loss: 0.69\n",
      "[epoch 583] loss: 0.68\n",
      "[epoch 584] loss: 0.68\n",
      "[epoch 585] loss: 0.68\n",
      "[epoch 586] loss: 0.68\n",
      "[epoch 587] loss: 0.67\n",
      "[epoch 588] loss: 0.67\n",
      "[epoch 589] loss: 0.67\n",
      "[epoch 590] loss: 0.67\n",
      "[epoch 591] loss: 0.67\n",
      "[epoch 592] loss: 0.66\n",
      "[epoch 593] loss: 0.66\n",
      "[epoch 594] loss: 0.66\n",
      "[epoch 595] loss: 0.66\n",
      "[epoch 596] loss: 0.65\n",
      "[epoch 597] loss: 0.65\n",
      "[epoch 598] loss: 0.65\n",
      "[epoch 599] loss: 0.65\n",
      "[epoch 600] loss: 0.64\n",
      "[epoch 601] loss: 0.64\n",
      "[epoch 602] loss: 0.64\n",
      "[epoch 603] loss: 0.64\n",
      "[epoch 604] loss: 0.64\n",
      "[epoch 605] loss: 0.64\n",
      "[epoch 606] loss: 0.63\n",
      "[epoch 607] loss: 0.63\n",
      "[epoch 608] loss: 0.63\n",
      "[epoch 609] loss: 0.63\n",
      "[epoch 610] loss: 0.63\n",
      "[epoch 611] loss: 0.63\n",
      "[epoch 612] loss: 0.63\n",
      "[epoch 613] loss: 0.63\n",
      "[epoch 614] loss: 0.63\n",
      "[epoch 615] loss: 0.63\n",
      "[epoch 616] loss: 0.62\n",
      "[epoch 617] loss: 0.62\n",
      "[epoch 618] loss: 0.62\n",
      "[epoch 619] loss: 0.62\n",
      "[epoch 620] loss: 0.62\n",
      "[epoch 621] loss: 0.62\n",
      "[epoch 622] loss: 0.62\n",
      "[epoch 623] loss: 0.62\n",
      "[epoch 624] loss: 0.62\n",
      "[epoch 625] loss: 0.62\n",
      "[epoch 626] loss: 0.62\n",
      "[epoch 627] loss: 0.62\n",
      "[epoch 628] loss: 0.62\n",
      "[epoch 629] loss: 0.61\n",
      "[epoch 630] loss: 0.61\n",
      "[epoch 631] loss: 0.61\n",
      "[epoch 632] loss: 0.61\n",
      "[epoch 633] loss: 0.61\n",
      "[epoch 634] loss: 0.61\n",
      "[epoch 635] loss: 0.61\n",
      "[epoch 636] loss: 0.61\n",
      "[epoch 637] loss: 0.61\n",
      "[epoch 638] loss: 0.61\n",
      "[epoch 639] loss: 0.61\n",
      "[epoch 640] loss: 0.61\n",
      "[epoch 641] loss: 0.61\n",
      "[epoch 642] loss: 0.61\n",
      "[epoch 643] loss: 0.61\n",
      "[epoch 644] loss: 0.61\n",
      "[epoch 645] loss: 0.60\n",
      "[epoch 646] loss: 0.60\n",
      "[epoch 647] loss: 0.60\n",
      "[epoch 648] loss: 0.60\n",
      "[epoch 649] loss: 0.60\n",
      "[epoch 650] loss: 0.60\n",
      "[epoch 651] loss: 0.60\n",
      "[epoch 652] loss: 0.60\n",
      "[epoch 653] loss: 0.60\n",
      "[epoch 654] loss: 0.60\n",
      "[epoch 655] loss: 0.60\n",
      "[epoch 656] loss: 0.60\n",
      "[epoch 657] loss: 0.60\n",
      "[epoch 658] loss: 0.60\n",
      "[epoch 659] loss: 0.60\n",
      "[epoch 660] loss: 0.60\n",
      "[epoch 661] loss: 0.60\n",
      "[epoch 662] loss: 0.60\n",
      "[epoch 663] loss: 0.60\n",
      "[epoch 664] loss: 0.59\n",
      "[epoch 665] loss: 0.59\n",
      "[epoch 666] loss: 0.59\n",
      "[epoch 667] loss: 0.59\n",
      "[epoch 668] loss: 0.59\n",
      "[epoch 669] loss: 0.59\n",
      "[epoch 670] loss: 0.59\n",
      "[epoch 671] loss: 0.59\n",
      "[epoch 672] loss: 0.59\n",
      "[epoch 673] loss: 0.59\n",
      "[epoch 674] loss: 0.59\n",
      "[epoch 675] loss: 0.59\n",
      "[epoch 676] loss: 0.59\n",
      "[epoch 677] loss: 0.59\n",
      "[epoch 678] loss: 0.59\n",
      "[epoch 679] loss: 0.59\n",
      "[epoch 680] loss: 0.59\n",
      "[epoch 681] loss: 0.58\n",
      "[epoch 682] loss: 0.58\n",
      "[epoch 683] loss: 0.58\n",
      "[epoch 684] loss: 0.58\n",
      "[epoch 685] loss: 0.58\n",
      "[epoch 686] loss: 0.58\n",
      "[epoch 687] loss: 0.58\n",
      "[epoch 688] loss: 0.58\n",
      "[epoch 689] loss: 0.58\n",
      "[epoch 690] loss: 0.58\n",
      "[epoch 691] loss: 0.58\n",
      "[epoch 692] loss: 0.58\n",
      "[epoch 693] loss: 0.58\n",
      "[epoch 694] loss: 0.58\n",
      "[epoch 695] loss: 0.58\n",
      "[epoch 696] loss: 0.58\n",
      "[epoch 697] loss: 0.58\n",
      "[epoch 698] loss: 0.58\n",
      "[epoch 699] loss: 0.58\n",
      "[epoch 700] loss: 0.58\n",
      "[epoch 701] loss: 0.57\n",
      "[epoch 702] loss: 0.57\n",
      "[epoch 703] loss: 0.57\n",
      "[epoch 704] loss: 0.57\n",
      "[epoch 705] loss: 0.57\n",
      "[epoch 706] loss: 0.57\n",
      "[epoch 707] loss: 0.57\n",
      "[epoch 708] loss: 0.57\n",
      "[epoch 709] loss: 0.57\n",
      "[epoch 710] loss: 0.57\n",
      "[epoch 711] loss: 0.57\n",
      "[epoch 712] loss: 0.57\n",
      "[epoch 713] loss: 0.57\n",
      "[epoch 714] loss: 0.57\n",
      "[epoch 715] loss: 0.57\n",
      "[epoch 716] loss: 0.57\n",
      "[epoch 717] loss: 0.57\n"
     ]
    },
    {
     "name": "stdout",
     "output_type": "stream",
     "text": [
      "[epoch 718] loss: 0.57\n",
      "[epoch 719] loss: 0.57\n",
      "[epoch 720] loss: 0.57\n",
      "[epoch 721] loss: 0.57\n",
      "[epoch 722] loss: 0.56\n",
      "[epoch 723] loss: 0.56\n",
      "[epoch 724] loss: 0.56\n",
      "[epoch 725] loss: 0.56\n",
      "[epoch 726] loss: 0.56\n",
      "[epoch 727] loss: 0.56\n",
      "[epoch 728] loss: 0.56\n",
      "[epoch 729] loss: 0.56\n",
      "[epoch 730] loss: 0.56\n",
      "[epoch 731] loss: 0.56\n",
      "[epoch 732] loss: 0.56\n",
      "[epoch 733] loss: 0.56\n",
      "[epoch 734] loss: 0.56\n",
      "[epoch 735] loss: 0.56\n",
      "[epoch 736] loss: 0.56\n",
      "[epoch 737] loss: 0.56\n",
      "[epoch 738] loss: 0.56\n",
      "[epoch 739] loss: 0.56\n",
      "[epoch 740] loss: 0.56\n",
      "[epoch 741] loss: 0.56\n",
      "[epoch 742] loss: 0.56\n",
      "[epoch 743] loss: 0.56\n",
      "[epoch 744] loss: 0.55\n",
      "[epoch 745] loss: 0.55\n",
      "[epoch 746] loss: 0.55\n",
      "[epoch 747] loss: 0.55\n",
      "[epoch 748] loss: 0.55\n",
      "[epoch 749] loss: 0.55\n",
      "[epoch 750] loss: 0.55\n",
      "[epoch 751] loss: 0.55\n",
      "[epoch 752] loss: 0.55\n",
      "[epoch 753] loss: 0.55\n",
      "[epoch 754] loss: 0.55\n",
      "[epoch 755] loss: 0.55\n",
      "[epoch 756] loss: 0.55\n",
      "[epoch 757] loss: 0.55\n",
      "[epoch 758] loss: 0.55\n",
      "[epoch 759] loss: 0.55\n",
      "[epoch 760] loss: 0.55\n",
      "[epoch 761] loss: 0.55\n",
      "[epoch 762] loss: 0.55\n",
      "[epoch 763] loss: 0.55\n",
      "[epoch 764] loss: 0.55\n",
      "[epoch 765] loss: 0.55\n",
      "[epoch 766] loss: 0.54\n",
      "[epoch 767] loss: 0.54\n",
      "[epoch 768] loss: 0.54\n",
      "[epoch 769] loss: 0.54\n",
      "[epoch 770] loss: 0.54\n",
      "[epoch 771] loss: 0.54\n",
      "[epoch 772] loss: 0.54\n",
      "[epoch 773] loss: 0.54\n",
      "[epoch 774] loss: 0.54\n",
      "[epoch 775] loss: 0.54\n",
      "[epoch 776] loss: 0.54\n",
      "[epoch 777] loss: 0.54\n",
      "[epoch 778] loss: 0.54\n",
      "[epoch 779] loss: 0.54\n",
      "[epoch 780] loss: 0.54\n",
      "[epoch 781] loss: 0.54\n",
      "[epoch 782] loss: 0.54\n",
      "[epoch 783] loss: 0.54\n",
      "[epoch 784] loss: 0.54\n",
      "[epoch 785] loss: 0.54\n",
      "[epoch 786] loss: 0.54\n",
      "[epoch 787] loss: 0.54\n",
      "[epoch 788] loss: 0.54\n",
      "[epoch 789] loss: 0.54\n",
      "[epoch 790] loss: 0.54\n",
      "[epoch 791] loss: 0.54\n",
      "[epoch 792] loss: 0.53\n",
      "[epoch 793] loss: 0.53\n",
      "[epoch 794] loss: 0.53\n",
      "[epoch 795] loss: 0.53\n",
      "[epoch 796] loss: 0.53\n",
      "[epoch 797] loss: 0.53\n",
      "[epoch 798] loss: 0.53\n",
      "[epoch 799] loss: 0.53\n",
      "[epoch 800] loss: 0.53\n",
      "[epoch 801] loss: 0.53\n",
      "[epoch 802] loss: 0.53\n",
      "[epoch 803] loss: 0.53\n",
      "[epoch 804] loss: 0.53\n",
      "[epoch 805] loss: 0.53\n",
      "[epoch 806] loss: 0.53\n",
      "[epoch 807] loss: 0.53\n",
      "[epoch 808] loss: 0.53\n",
      "[epoch 809] loss: 0.53\n",
      "[epoch 810] loss: 0.53\n",
      "[epoch 811] loss: 0.53\n",
      "[epoch 812] loss: 0.53\n",
      "[epoch 813] loss: 0.53\n",
      "[epoch 814] loss: 0.53\n",
      "[epoch 815] loss: 0.53\n",
      "[epoch 816] loss: 0.52\n",
      "[epoch 817] loss: 0.52\n",
      "[epoch 818] loss: 0.53\n",
      "[epoch 819] loss: 0.52\n",
      "[epoch 820] loss: 0.52\n",
      "[epoch 821] loss: 0.52\n",
      "[epoch 822] loss: 0.52\n",
      "[epoch 823] loss: 0.52\n",
      "[epoch 824] loss: 0.52\n",
      "[epoch 825] loss: 0.52\n",
      "[epoch 826] loss: 0.52\n",
      "[epoch 827] loss: 0.52\n",
      "[epoch 828] loss: 0.52\n",
      "[epoch 829] loss: 0.52\n",
      "[epoch 830] loss: 0.52\n",
      "[epoch 831] loss: 0.52\n",
      "[epoch 832] loss: 0.52\n",
      "[epoch 833] loss: 0.52\n",
      "[epoch 834] loss: 0.52\n",
      "[epoch 835] loss: 0.52\n",
      "[epoch 836] loss: 0.52\n",
      "[epoch 837] loss: 0.52\n",
      "[epoch 838] loss: 0.52\n",
      "[epoch 839] loss: 0.52\n",
      "[epoch 840] loss: 0.52\n",
      "[epoch 841] loss: 0.52\n",
      "[epoch 842] loss: 0.52\n",
      "[epoch 843] loss: 0.51\n",
      "[epoch 844] loss: 0.51\n",
      "[epoch 845] loss: 0.51\n",
      "[epoch 846] loss: 0.51\n",
      "[epoch 847] loss: 0.52\n",
      "[epoch 848] loss: 0.51\n",
      "[epoch 849] loss: 0.51\n",
      "[epoch 850] loss: 0.51\n",
      "[epoch 851] loss: 0.51\n",
      "[epoch 852] loss: 0.51\n",
      "[epoch 853] loss: 0.51\n",
      "[epoch 854] loss: 0.51\n",
      "[epoch 855] loss: 0.51\n",
      "[epoch 856] loss: 0.51\n",
      "[epoch 857] loss: 0.51\n",
      "[epoch 858] loss: 0.51\n",
      "[epoch 859] loss: 0.51\n",
      "[epoch 860] loss: 0.51\n",
      "[epoch 861] loss: 0.51\n",
      "[epoch 862] loss: 0.51\n",
      "[epoch 863] loss: 0.51\n",
      "[epoch 864] loss: 0.51\n",
      "[epoch 865] loss: 0.51\n",
      "[epoch 866] loss: 0.51\n",
      "[epoch 867] loss: 0.51\n",
      "[epoch 868] loss: 0.51\n",
      "[epoch 869] loss: 0.51\n",
      "[epoch 870] loss: 0.50\n",
      "[epoch 871] loss: 0.50\n",
      "[epoch 872] loss: 0.50\n",
      "[epoch 873] loss: 0.51\n",
      "[epoch 874] loss: 0.50\n",
      "[epoch 875] loss: 0.50\n",
      "[epoch 876] loss: 0.50\n",
      "[epoch 877] loss: 0.50\n",
      "[epoch 878] loss: 0.50\n",
      "[epoch 879] loss: 0.50\n",
      "[epoch 880] loss: 0.50\n",
      "[epoch 881] loss: 0.50\n",
      "[epoch 882] loss: 0.50\n",
      "[epoch 883] loss: 0.50\n",
      "[epoch 884] loss: 0.50\n",
      "[epoch 885] loss: 0.50\n",
      "[epoch 886] loss: 0.50\n",
      "[epoch 887] loss: 0.50\n",
      "[epoch 888] loss: 0.50\n",
      "[epoch 889] loss: 0.50\n",
      "[epoch 890] loss: 0.50\n",
      "[epoch 891] loss: 0.50\n",
      "[epoch 892] loss: 0.50\n",
      "[epoch 893] loss: 0.50\n",
      "[epoch 894] loss: 0.50\n",
      "[epoch 895] loss: 0.50\n",
      "[epoch 896] loss: 0.50\n",
      "[epoch 897] loss: 0.50\n",
      "[epoch 898] loss: 0.50\n",
      "[epoch 899] loss: 0.50\n",
      "[epoch 900] loss: 0.50\n",
      "[epoch 901] loss: 0.50\n",
      "[epoch 902] loss: 0.50\n",
      "[epoch 903] loss: 0.49\n",
      "[epoch 904] loss: 0.49\n",
      "[epoch 905] loss: 0.49\n",
      "[epoch 906] loss: 0.49\n",
      "[epoch 907] loss: 0.49\n",
      "[epoch 908] loss: 0.49\n",
      "[epoch 909] loss: 0.49\n",
      "[epoch 910] loss: 0.49\n",
      "[epoch 911] loss: 0.49\n",
      "[epoch 912] loss: 0.49\n",
      "[epoch 913] loss: 0.49\n",
      "[epoch 914] loss: 0.49\n",
      "[epoch 915] loss: 0.49\n",
      "[epoch 916] loss: 0.49\n",
      "[epoch 917] loss: 0.49\n",
      "[epoch 918] loss: 0.49\n",
      "[epoch 919] loss: 0.49\n",
      "[epoch 920] loss: 0.49\n",
      "[epoch 921] loss: 0.49\n",
      "[epoch 922] loss: 0.49\n",
      "[epoch 923] loss: 0.49\n",
      "[epoch 924] loss: 0.49\n",
      "[epoch 925] loss: 0.49\n",
      "[epoch 926] loss: 0.49\n",
      "[epoch 927] loss: 0.49\n",
      "[epoch 928] loss: 0.49\n",
      "[epoch 929] loss: 0.48\n",
      "[epoch 930] loss: 0.48\n",
      "[epoch 931] loss: 0.48\n",
      "[epoch 932] loss: 0.48\n",
      "[epoch 933] loss: 0.48\n",
      "[epoch 934] loss: 0.48\n",
      "[epoch 935] loss: 0.48\n",
      "[epoch 936] loss: 0.48\n",
      "[epoch 937] loss: 0.48\n",
      "[epoch 938] loss: 0.48\n",
      "[epoch 939] loss: 0.48\n",
      "[epoch 940] loss: 0.48\n",
      "[epoch 941] loss: 0.48\n",
      "[epoch 942] loss: 0.48\n",
      "[epoch 943] loss: 0.48\n",
      "[epoch 944] loss: 0.48\n",
      "[epoch 945] loss: 0.48\n",
      "[epoch 946] loss: 0.48\n",
      "[epoch 947] loss: 0.48\n",
      "[epoch 948] loss: 0.48\n",
      "[epoch 949] loss: 0.48\n",
      "[epoch 950] loss: 0.48\n",
      "[epoch 951] loss: 0.48\n",
      "[epoch 952] loss: 0.48\n",
      "[epoch 953] loss: 0.48\n",
      "[epoch 954] loss: 0.48\n",
      "[epoch 955] loss: 0.48\n",
      "[epoch 956] loss: 0.48\n",
      "[epoch 957] loss: 0.48\n",
      "[epoch 958] loss: 0.48\n",
      "[epoch 959] loss: 0.47\n",
      "[epoch 960] loss: 0.47\n",
      "[epoch 961] loss: 0.47\n",
      "[epoch 962] loss: 0.47\n",
      "[epoch 963] loss: 0.47\n",
      "[epoch 964] loss: 0.47\n",
      "[epoch 965] loss: 0.47\n",
      "[epoch 966] loss: 0.47\n",
      "[epoch 967] loss: 0.47\n",
      "[epoch 968] loss: 0.47\n",
      "[epoch 969] loss: 0.47\n",
      "[epoch 970] loss: 0.47\n",
      "[epoch 971] loss: 0.47\n",
      "[epoch 972] loss: 0.47\n",
      "[epoch 973] loss: 0.47\n",
      "[epoch 974] loss: 0.47\n",
      "[epoch 975] loss: 0.47\n",
      "[epoch 976] loss: 0.47\n",
      "[epoch 977] loss: 0.47\n",
      "[epoch 978] loss: 0.47\n",
      "[epoch 979] loss: 0.47\n",
      "[epoch 980] loss: 0.47\n",
      "[epoch 981] loss: 0.47\n",
      "[epoch 982] loss: 0.47\n",
      "[epoch 983] loss: 0.47\n",
      "[epoch 984] loss: 0.47\n",
      "[epoch 985] loss: 0.47\n",
      "[epoch 986] loss: 0.47\n",
      "[epoch 987] loss: 0.47\n",
      "[epoch 988] loss: 0.47\n",
      "[epoch 989] loss: 0.47\n",
      "[epoch 990] loss: 0.47\n",
      "[epoch 991] loss: 0.47\n",
      "[epoch 992] loss: 0.47\n",
      "[epoch 993] loss: 0.47\n",
      "[epoch 994] loss: 0.47\n",
      "[epoch 995] loss: 0.47\n",
      "[epoch 996] loss: 0.47\n",
      "[epoch 997] loss: 0.46\n",
      "[epoch 998] loss: 0.46\n",
      "[epoch 999] loss: 0.46\n",
      "[epoch 1000] loss: 0.46\n",
      "test error Net 0.30% 3/1000\n"
     ]
    }
   ],
   "source": [
    "# Test\n",
    "mini_batch_size = 10\n",
    "\n",
    "\n",
    "model = Net()\n",
    "losses_ = train_model(model, train_input, train_target_h, mini_batch_size, monitor_loss=True)\n",
    "nb_test_errors = compute_nb_errors(model, test_input, test_target)\n",
    "print('test error Net {:0.2f}% {:d}/{:d}'.format((100 * nb_test_errors) / test_input.size(0),\n",
    "                                                      nb_test_errors, test_input.size(0)))\n"
   ]
  },
  {
   "cell_type": "code",
   "execution_count": 21,
   "metadata": {
    "scrolled": true
   },
   "outputs": [
    {
     "name": "stdout",
     "output_type": "stream",
     "text": [
      "[epoch 1] loss: 16.51 error: 130 accuracy: 87.0\n",
      "[epoch 2] loss: 9.43 error: 130 accuracy: 87.0\n",
      "[epoch 3] loss: 5.88 error: 97 accuracy: 90.30000000000001\n",
      "[epoch 4] loss: 3.29 error: 32 accuracy: 96.80000000000003\n",
      "[epoch 5] loss: 2.28 error: 20 accuracy: 98.00000000000001\n",
      "[epoch 6] loss: 1.83 error: 15 accuracy: 98.5\n",
      "[epoch 7] loss: 1.57 error: 13 accuracy: 98.70000000000002\n",
      "[epoch 8] loss: 1.39 error: 12 accuracy: 98.80000000000001\n",
      "[epoch 9] loss: 1.25 error: 11 accuracy: 98.9\n",
      "[epoch 10] loss: 1.14 error: 11 accuracy: 98.9\n",
      "[epoch 11] loss: 1.05 error: 10 accuracy: 99.00000000000001\n",
      "[epoch 12] loss: 0.97 error: 9 accuracy: 99.10000000000002\n",
      "[epoch 13] loss: 0.90 error: 9 accuracy: 99.10000000000002\n",
      "[epoch 14] loss: 0.84 error: 8 accuracy: 99.20000000000002\n",
      "[epoch 15] loss: 0.79 error: 8 accuracy: 99.20000000000002\n",
      "[epoch 16] loss: 0.75 error: 7 accuracy: 99.30000000000001\n",
      "[epoch 17] loss: 0.72 error: 7 accuracy: 99.30000000000001\n",
      "[epoch 18] loss: 0.68 error: 7 accuracy: 99.30000000000001\n",
      "[epoch 19] loss: 0.66 error: 7 accuracy: 99.30000000000001\n",
      "[epoch 20] loss: 0.64 error: 7 accuracy: 99.30000000000001\n",
      "[epoch 21] loss: 0.62 error: 8 accuracy: 99.20000000000002\n",
      "[epoch 22] loss: 0.60 error: 9 accuracy: 99.10000000000002\n",
      "[epoch 23] loss: 0.59 error: 10 accuracy: 99.0\n",
      "[epoch 24] loss: 0.58 error: 9 accuracy: 99.1\n",
      "[epoch 25] loss: 0.57 error: 9 accuracy: 99.1\n",
      "[epoch 26] loss: 0.56 error: 8 accuracy: 99.19999999999999\n",
      "[epoch 27] loss: 0.55 error: 7 accuracy: 99.29999999999998\n",
      "[epoch 28] loss: 0.55 error: 7 accuracy: 99.29999999999998\n",
      "[epoch 29] loss: 0.54 error: 7 accuracy: 99.29999999999998\n",
      "[epoch 30] loss: 0.53 error: 8 accuracy: 99.19999999999999\n",
      "[epoch 31] loss: 0.53 error: 8 accuracy: 99.19999999999999\n",
      "[epoch 32] loss: 0.53 error: 8 accuracy: 99.19999999999999\n",
      "[epoch 33] loss: 0.53 error: 7 accuracy: 99.29999999999998\n",
      "[epoch 34] loss: 0.52 error: 7 accuracy: 99.29999999999998\n",
      "[epoch 35] loss: 0.52 error: 8 accuracy: 99.19999999999999\n",
      "[epoch 36] loss: 0.51 error: 8 accuracy: 99.19999999999999\n",
      "[epoch 37] loss: 0.51 error: 8 accuracy: 99.19999999999999\n",
      "[epoch 38] loss: 0.51 error: 8 accuracy: 99.19999999999999\n",
      "[epoch 39] loss: 0.51 error: 8 accuracy: 99.19999999999999\n",
      "[epoch 40] loss: 0.50 error: 8 accuracy: 99.19999999999999\n",
      "[epoch 41] loss: 0.50 error: 8 accuracy: 99.19999999999999\n",
      "[epoch 42] loss: 0.50 error: 8 accuracy: 99.19999999999999\n",
      "[epoch 43] loss: 0.50 error: 8 accuracy: 99.19999999999999\n",
      "[epoch 44] loss: 0.50 error: 8 accuracy: 99.19999999999999\n",
      "[epoch 45] loss: 0.50 error: 8 accuracy: 99.19999999999999\n",
      "[epoch 46] loss: 0.49 error: 8 accuracy: 99.19999999999999\n",
      "[epoch 47] loss: 0.49 error: 8 accuracy: 99.19999999999999\n",
      "[epoch 48] loss: 0.49 error: 8 accuracy: 99.19999999999999\n",
      "[epoch 49] loss: 0.49 error: 7 accuracy: 99.3\n",
      "[epoch 50] loss: 0.49 error: 7 accuracy: 99.3\n",
      "[epoch 51] loss: 0.49 error: 7 accuracy: 99.3\n",
      "[epoch 52] loss: 0.49 error: 8 accuracy: 99.2\n",
      "[epoch 53] loss: 0.49 error: 8 accuracy: 99.2\n",
      "[epoch 54] loss: 0.48 error: 8 accuracy: 99.2\n",
      "[epoch 55] loss: 0.48 error: 8 accuracy: 99.2\n",
      "[epoch 56] loss: 0.48 error: 8 accuracy: 99.2\n",
      "[epoch 57] loss: 0.48 error: 8 accuracy: 99.2\n",
      "[epoch 58] loss: 0.48 error: 8 accuracy: 99.2\n",
      "[epoch 59] loss: 0.48 error: 8 accuracy: 99.2\n",
      "[epoch 60] loss: 0.48 error: 8 accuracy: 99.2\n",
      "[epoch 61] loss: 0.48 error: 8 accuracy: 99.2\n",
      "[epoch 62] loss: 0.48 error: 8 accuracy: 99.2\n",
      "[epoch 63] loss: 0.47 error: 8 accuracy: 99.2\n",
      "[epoch 64] loss: 0.47 error: 8 accuracy: 99.2\n",
      "[epoch 65] loss: 0.47 error: 8 accuracy: 99.2\n",
      "[epoch 66] loss: 0.47 error: 8 accuracy: 99.2\n",
      "[epoch 67] loss: 0.47 error: 8 accuracy: 99.2\n",
      "[epoch 68] loss: 0.47 error: 8 accuracy: 99.2\n",
      "[epoch 69] loss: 0.47 error: 8 accuracy: 99.2\n",
      "[epoch 70] loss: 0.47 error: 8 accuracy: 99.2\n",
      "[epoch 71] loss: 0.47 error: 8 accuracy: 99.2\n",
      "[epoch 72] loss: 0.46 error: 8 accuracy: 99.2\n",
      "[epoch 73] loss: 0.46 error: 8 accuracy: 99.2\n",
      "[epoch 74] loss: 0.46 error: 8 accuracy: 99.2\n",
      "[epoch 75] loss: 0.46 error: 8 accuracy: 99.2\n",
      "[epoch 76] loss: 0.46 error: 8 accuracy: 99.2\n",
      "[epoch 77] loss: 0.46 error: 8 accuracy: 99.2\n",
      "[epoch 78] loss: 0.46 error: 8 accuracy: 99.2\n",
      "[epoch 79] loss: 0.46 error: 8 accuracy: 99.2\n",
      "[epoch 80] loss: 0.45 error: 8 accuracy: 99.2\n",
      "[epoch 81] loss: 0.45 error: 8 accuracy: 99.2\n",
      "[epoch 82] loss: 0.45 error: 8 accuracy: 99.2\n",
      "[epoch 83] loss: 0.45 error: 8 accuracy: 99.2\n",
      "[epoch 84] loss: 0.45 error: 8 accuracy: 99.2\n",
      "[epoch 85] loss: 0.45 error: 8 accuracy: 99.2\n",
      "[epoch 86] loss: 0.45 error: 8 accuracy: 99.2\n",
      "[epoch 87] loss: 0.45 error: 8 accuracy: 99.2\n",
      "[epoch 88] loss: 0.45 error: 8 accuracy: 99.2\n",
      "[epoch 89] loss: 0.44 error: 7 accuracy: 99.3\n",
      "[epoch 90] loss: 0.44 error: 8 accuracy: 99.2\n",
      "[epoch 91] loss: 0.44 error: 7 accuracy: 99.3\n",
      "[epoch 92] loss: 0.44 error: 7 accuracy: 99.3\n",
      "[epoch 93] loss: 0.44 error: 8 accuracy: 99.2\n",
      "[epoch 94] loss: 0.44 error: 7 accuracy: 99.3\n",
      "[epoch 95] loss: 0.43 error: 7 accuracy: 99.3\n",
      "[epoch 96] loss: 0.43 error: 7 accuracy: 99.3\n",
      "[epoch 97] loss: 0.43 error: 7 accuracy: 99.3\n",
      "[epoch 98] loss: 0.43 error: 7 accuracy: 99.3\n",
      "[epoch 99] loss: 0.43 error: 7 accuracy: 99.3\n",
      "[epoch 100] loss: 0.43 error: 7 accuracy: 99.3\n",
      "test error Net 1.40% 14/1000\n"
     ]
    }
   ],
   "source": [
    "# With errors\n",
    "#torch.manual_seed(0)\n",
    "mini_batch_size = 10\n",
    "\n",
    "model = Net()\n",
    "losses_, errors_, accuracies_ = train_model(model, train_input, train_target_h, train_target, mini_batch_size, True)\n",
    "nb_test_errors = compute_nb_errors(model, test_input, test_target)\n",
    "print('test error Net {:0.2f}% {:d}/{:d}'.format((100 * nb_test_errors) / test_input.size(0),\n",
    "                                                      nb_test_errors, test_input.size(0)))\n"
   ]
  },
  {
   "cell_type": "code",
   "execution_count": 58,
   "metadata": {},
   "outputs": [
    {
     "data": {
      "text/plain": [
       "array([0.796, 0.868, 0.937, 0.978, 0.982, 0.982, 0.983, 0.983, 0.983,\n",
       "       0.984, 0.984, 0.984, 0.986, 0.986, 0.985, 0.986, 0.986, 0.986,\n",
       "       0.987, 0.989, 0.989, 0.989, 0.989, 0.99 , 0.991, 0.991, 0.992,\n",
       "       0.991, 0.991, 0.993, 0.993, 0.994, 0.994, 0.994, 0.994, 0.995,\n",
       "       0.995, 0.995, 0.995, 0.995, 0.995, 0.995, 0.995, 0.995, 0.996,\n",
       "       0.996, 0.996, 0.996, 0.996, 0.996, 0.996, 0.996, 0.996, 0.996,\n",
       "       0.996, 0.996, 0.996, 0.996, 0.996, 0.996, 0.996, 0.996, 0.996,\n",
       "       0.996, 0.997, 0.997, 0.997, 0.998, 0.998, 0.998, 0.998, 0.998,\n",
       "       0.998, 0.998, 0.998, 0.998, 0.998, 0.998, 0.998, 0.998, 0.998,\n",
       "       0.998, 0.998, 0.998, 0.998, 0.998, 0.998, 0.998, 0.998, 0.998,\n",
       "       0.998, 0.998, 0.998, 0.998, 0.998, 0.998, 0.997, 0.997, 0.997,\n",
       "       0.997])"
      ]
     },
     "execution_count": 58,
     "metadata": {},
     "output_type": "execute_result"
    }
   ],
   "source": [
    "# Accuracy computed manually\n",
    "#errors_\n",
    "accuracy_manual = (train_input.size(0) - np.array(errors_)) / train_input.size(0)\n",
    "accuracy_manual\n",
    "# This is the same!"
   ]
  },
  {
   "cell_type": "code",
   "execution_count": 57,
   "metadata": {},
   "outputs": [
    {
     "data": {
      "text/plain": [
       "Text(0.5, 1.0, 'Loss evolution during the training using PyTorch framework')"
      ]
     },
     "execution_count": 57,
     "metadata": {},
     "output_type": "execute_result"
    },
    {
     "data": {
      "image/png": "[encoded data removed]",
      "text/plain": [
       "<Figure size 864x432 with 1 Axes>"
      ]
     },
     "metadata": {
      "needs_background": "light"
     },
     "output_type": "display_data"
    }
   ],
   "source": [
    "# 100 epochs\n",
    "plt.subplots(figsize=(12, 6))\n",
    "plt.plot(losses)\n",
    "plt.xlabel('epochs')\n",
    "plt.ylabel('MSE loss')\n",
    "plt.title('Loss evolution during the training using PyTorch framework')"
   ]
  },
  {
   "cell_type": "code",
   "execution_count": 62,
   "metadata": {},
   "outputs": [
    {
     "data": {
      "text/plain": [
       "Text(0.5, 1.0, 'Loss evolution during the training using PyTorch framework')"
      ]
     },
     "execution_count": 62,
     "metadata": {},
     "output_type": "execute_result"
    },
    {
     "data": {
      "image/png": "[encoded data removed]",
      "text/plain": [
       "<Figure size 864x432 with 1 Axes>"
      ]
     },
     "metadata": {
      "needs_background": "light"
     },
     "output_type": "display_data"
    }
   ],
   "source": [
    "# 1000 epochs\n",
    "plt.subplots(figsize=(12, 6))\n",
    "plt.plot(losses_)\n",
    "plt.xlabel('epochs')\n",
    "plt.ylabel('MSE loss')\n",
    "plt.title('Loss evolution during the training using PyTorch framework')"
   ]
  },
  {
   "cell_type": "markdown",
   "metadata": {},
   "source": [
    "## Monitor loss"
   ]
  },
  {
   "cell_type": "code",
   "execution_count": 84,
   "metadata": {},
   "outputs": [
    {
     "data": {
      "text/plain": [
       "Text(0.5, 1.0, 'Loss evolution during the training')"
      ]
     },
     "execution_count": 84,
     "metadata": {},
     "output_type": "execute_result"
    },
    {
     "data": {
      "image/png": "[encoded data removed]",
      "text/plain": [
       "<Figure size 864x576 with 2 Axes>"
      ]
     },
     "metadata": {
      "needs_background": "light"
     },
     "output_type": "display_data"
    }
   ],
   "source": [
    "fig, ax1 = plt.subplots(figsize=(12, 8))\n",
    "ax2 = ax1.twinx()\n",
    "\n",
    "f1 = ax1.plot(df_m1['test_loss'], color='darkblue', label='Our framework')\n",
    "\n",
    "f2 = ax2.plot(losses, color='crimson', label='PyTorch')\n",
    "\n",
    "fs = f1 + f2\n",
    "labs = [l.get_label() for l in fs]\n",
    "ax1.legend(f1+f2, labs, loc=0, fontsize=15)\n",
    "\n",
    "ax1.set_xlabel('Epochs', fontsize=20)\n",
    "ax1.set_ylabel('MSE loss', fontsize=20)\n",
    "#ax2.set_ylabel('MSE loss')\n",
    "\n",
    "plt.title('Loss evolution during the training', fontsize=25)"
   ]
  },
  {
   "cell_type": "code",
   "execution_count": 85,
   "metadata": {},
   "outputs": [],
   "source": [
    "# Save fig\n",
    "fig.savefig(\"losses_evolution.png\")"
   ]
  },
  {
   "cell_type": "markdown",
   "metadata": {},
   "source": [
    "## Monitor accuracy"
   ]
  },
  {
   "cell_type": "code",
   "execution_count": 47,
   "metadata": {},
   "outputs": [],
   "source": [
    "# Define function computing accuracy for prediction\n",
    "def accuracy(y_predicted, y_actual):\n",
    "    \"\"\"\n",
    "    Accuracy of binary prediction with values 0, 1\n",
    "    Convert both entry tensors to numpy\n",
    "    \"\"\"\n",
    "    if (type(y_predicted) == torch.Tensor):\n",
    "        y_predicted = y_predicted.detach().numpy()\n",
    "        y_actual = y_actual.detach().numpy()\n",
    "        #Note: without detach > error message: Can't call numpy() on Variable that requires grad\n",
    "        #print(y_predicted)\n",
    "        #print(y_actual)\n",
    "        \n",
    "    return np.sum(y_predicted == y_actual) / len(y_actual)"
   ]
  },
  {
   "cell_type": "code",
   "execution_count": 26,
   "metadata": {},
   "outputs": [
    {
     "data": {
      "text/plain": [
       "0.25"
      ]
     },
     "execution_count": 26,
     "metadata": {},
     "output_type": "execute_result"
    }
   ],
   "source": [
    "y_hat = np.array([1,0,0,0])\n",
    "true_output = np.array([1,1,1,1])\n",
    "\n",
    "acc = accuracy(y_hat, true_output)\n",
    "acc"
   ]
  },
  {
   "cell_type": "code",
   "execution_count": null,
   "metadata": {},
   "outputs": [],
   "source": []
  },
  {
   "cell_type": "markdown",
   "metadata": {},
   "source": [
    "## PyTorch features"
   ]
  },
  {
   "cell_type": "code",
   "execution_count": 16,
   "metadata": {},
   "outputs": [
    {
     "data": {
      "text/plain": [
       "Text(0.5, 1.0, 'Loss and accuracy monitoring - PyTorch')"
      ]
     },
     "execution_count": 16,
     "metadata": {},
     "output_type": "execute_result"
    },
    {
     "data": {
      "image/png": "[encoded data removed]",
      "text/plain": [
       "<Figure size 864x576 with 2 Axes>"
      ]
     },
     "metadata": {
      "needs_background": "light"
     },
     "output_type": "display_data"
    }
   ],
   "source": [
    "fig, ax1 = plt.subplots(figsize=(12, 8))\n",
    "ax2 = ax1.twinx()\n",
    "\n",
    "f1 = ax1.plot(np.array(losses_)[:60], color='darkblue', label='Loss')\n",
    "\n",
    "f2 = ax2.plot(np.array(accuracies_)[:60], color='crimson', label='Accuracy')\n",
    "\n",
    "fs = f1 + f2\n",
    "labs = [l.get_label() for l in fs]\n",
    "ax1.legend(f1+f2, labs, loc='center right', fontsize=15)\n",
    "\n",
    "ax1.set_xlabel('Epochs', fontsize=15)\n",
    "ax1.set_ylabel('MSE loss', fontsize=15)\n",
    "ax2.set_ylabel('Accuracy [%]', fontsize=15)\n",
    "\n",
    "plt.title('Loss and accuracy monitoring - PyTorch', fontsize=25)"
   ]
  },
  {
   "cell_type": "code",
   "execution_count": 20,
   "metadata": {},
   "outputs": [
    {
     "data": {
      "text/plain": [
       "Text(0.5, 1.0, 'Loss and accuracy monitoring - PyTorch')"
      ]
     },
     "execution_count": 20,
     "metadata": {},
     "output_type": "execute_result"
    },
    {
     "data": {
      "image/png": "[encoded data removed]",
      "text/plain": [
       "<Figure size 864x576 with 2 Axes>"
      ]
     },
     "metadata": {
      "needs_background": "light"
     },
     "output_type": "display_data"
    }
   ],
   "source": [
    "fig, ax1 = plt.subplots(figsize=(12, 8))\n",
    "ax2 = ax1.twinx()\n",
    "\n",
    "f1 = ax1.plot(np.array(losses_)[:60], color='darkblue', label='Loss')\n",
    "\n",
    "f2 = ax2.plot(np.array(accuracies_)[:60], color='crimson', label='Accuracy')\n",
    "\n",
    "fs = f1 + f2\n",
    "labs = [l.get_label() for l in fs]\n",
    "ax1.legend(f1+f2, labs, loc='center right', fontsize=15)\n",
    "\n",
    "ax1.set_xlabel('Epochs', fontsize=15)\n",
    "ax1.set_ylabel('MSE loss', fontsize=15)\n",
    "ax2.set_ylabel('Accuracy [%]', fontsize=15)\n",
    "\n",
    "plt.title('Loss and accuracy monitoring - PyTorch', fontsize=25)"
   ]
  },
  {
   "cell_type": "code",
   "execution_count": 22,
   "metadata": {},
   "outputs": [
    {
     "data": {
      "text/plain": [
       "Text(0.5, 1.0, 'Loss and accuracy monitoring - PyTorch')"
      ]
     },
     "execution_count": 22,
     "metadata": {},
     "output_type": "execute_result"
    },
    {
     "data": {
      "image/png": "[encoded data removed]",
      "text/plain": [
       "<Figure size 864x576 with 2 Axes>"
      ]
     },
     "metadata": {
      "needs_background": "light"
     },
     "output_type": "display_data"
    }
   ],
   "source": [
    "# this one was done using torch.manual_seed(0)\n",
    "fig, ax1 = plt.subplots(figsize=(12, 8))\n",
    "ax2 = ax1.twinx()\n",
    "\n",
    "f1 = ax1.plot(np.array(losses_)[:60], color='darkblue', label='Loss')\n",
    "\n",
    "f2 = ax2.plot(np.array(accuracies_)[:60], color='crimson', label='Accuracy')\n",
    "\n",
    "fs = f1 + f2\n",
    "labs = [l.get_label() for l in fs]\n",
    "ax1.legend(f1+f2, labs, loc='center right', fontsize=15)\n",
    "\n",
    "ax1.set_xlabel('Epochs', fontsize=15)\n",
    "ax1.set_ylabel('MSE loss', fontsize=15)\n",
    "ax2.set_ylabel('Accuracy [%]', fontsize=15)\n",
    "\n",
    "plt.title('Loss and accuracy monitoring - PyTorch', fontsize=25)"
   ]
  },
  {
   "cell_type": "markdown",
   "metadata": {},
   "source": [
    "## Combine with Hugo data"
   ]
  },
  {
   "cell_type": "code",
   "execution_count": 24,
   "metadata": {},
   "outputs": [
    {
     "data": {
      "text/html": [
       "<div>\n",
       "<style scoped>\n",
       "    .dataframe tbody tr th:only-of-type {\n",
       "        vertical-align: middle;\n",
       "    }\n",
       "\n",
       "    .dataframe tbody tr th {\n",
       "        vertical-align: top;\n",
       "    }\n",
       "\n",
       "    .dataframe thead th {\n",
       "        text-align: right;\n",
       "    }\n",
       "</style>\n",
       "<table border=\"1\" class=\"dataframe\">\n",
       "  <thead>\n",
       "    <tr style=\"text-align: right;\">\n",
       "      <th></th>\n",
       "      <th>test_loss</th>\n",
       "    </tr>\n",
       "  </thead>\n",
       "  <tbody>\n",
       "    <tr>\n",
       "      <th>0</th>\n",
       "      <td>0.498845</td>\n",
       "    </tr>\n",
       "    <tr>\n",
       "      <th>1</th>\n",
       "      <td>0.496329</td>\n",
       "    </tr>\n",
       "    <tr>\n",
       "      <th>2</th>\n",
       "      <td>0.485551</td>\n",
       "    </tr>\n",
       "    <tr>\n",
       "      <th>3</th>\n",
       "      <td>0.438128</td>\n",
       "    </tr>\n",
       "    <tr>\n",
       "      <th>4</th>\n",
       "      <td>0.267549</td>\n",
       "    </tr>\n",
       "  </tbody>\n",
       "</table>\n",
       "</div>"
      ],
      "text/plain": [
       "   test_loss\n",
       "0   0.498845\n",
       "1   0.496329\n",
       "2   0.485551\n",
       "3   0.438128\n",
       "4   0.267549"
      ]
     },
     "execution_count": 24,
     "metadata": {},
     "output_type": "execute_result"
    }
   ],
   "source": [
    "# Get loss\n",
    "loss_h = pd.read_json('loss_hugo_v2.json')\n",
    "loss_h.head()"
   ]
  },
  {
   "cell_type": "code",
   "execution_count": 28,
   "metadata": {},
   "outputs": [],
   "source": [
    "# Get accuracy\n",
    "import pickle\n",
    "\n",
    "with open('accuracy_hugo_v2.pkl', 'rb') as f:  # Python 3: open(..., 'rb')\n",
    "    acc_h = pickle.load(f)"
   ]
  },
  {
   "cell_type": "code",
   "execution_count": 35,
   "metadata": {},
   "outputs": [
    {
     "data": {
      "text/plain": [
       "Text(0.5, 1.0, 'Accuracy evolution during training')"
      ]
     },
     "execution_count": 35,
     "metadata": {},
     "output_type": "execute_result"
    },
    {
     "data": {
      "image/png": "[encoded data removed]",
      "text/plain": [
       "<Figure size 864x576 with 1 Axes>"
      ]
     },
     "metadata": {
      "needs_background": "light"
     },
     "output_type": "display_data"
    }
   ],
   "source": [
    "# Let the plot game begin\n",
    "# Accuracy\n",
    "plt.subplots(figsize=(12, 8))\n",
    "plt.plot(acc_h[:60] * 100, color='darkblue', label='Our Framework')\n",
    "plt.plot(accuracies_[:60], color='crimson', label='PyTorch')\n",
    "plt.xlabel('Epochs', fontsize=15)\n",
    "plt.ylabel('Accuracy [%]', fontsize=15)\n",
    "plt.legend(loc='lower right', fontsize=15)\n",
    "plt.title('Accuracy evolution during training', fontsize=20)"
   ]
  },
  {
   "cell_type": "code",
   "execution_count": 36,
   "metadata": {},
   "outputs": [
    {
     "data": {
      "text/plain": [
       "Text(0.5, 1.0, 'Accuracy evolution during training')"
      ]
     },
     "execution_count": 36,
     "metadata": {},
     "output_type": "execute_result"
    },
    {
     "data": {
      "image/png": "[encoded data removed]",
      "text/plain": [
       "<Figure size 864x576 with 2 Axes>"
      ]
     },
     "metadata": {
      "needs_background": "light"
     },
     "output_type": "display_data"
    }
   ],
   "source": [
    "# We gonna cheat bitches\n",
    "fig, ax1 = plt.subplots(figsize=(12, 8))\n",
    "ax2 = ax1.twinx()\n",
    "\n",
    "f1 = ax1.plot(acc_h[:60] * 100, color='darkblue', label='Our Framework')\n",
    "\n",
    "f2 = ax2.plot(accuracies_[:60], color='crimson', label='PyTorch')\n",
    "\n",
    "fs = f1 + f2\n",
    "labs = [l.get_label() for l in fs]\n",
    "ax1.legend(f1+f2, labs, loc='lower right', fontsize=15)\n",
    "\n",
    "ax1.set_xlabel('Epochs', fontsize=15)\n",
    "ax1.set_ylabel('Accuracy [%]', fontsize=15)\n",
    "#ax2.set_ylabel('Accuracy [%]', fontsize=15)\n",
    "\n",
    "plt.title('Accuracy evolution during training', fontsize=20)"
   ]
  },
  {
   "cell_type": "code",
   "execution_count": 40,
   "metadata": {},
   "outputs": [
    {
     "data": {
      "text/plain": [
       "Text(0.5, 1.0, 'Loss evolution during training')"
      ]
     },
     "execution_count": 40,
     "metadata": {},
     "output_type": "execute_result"
    },
    {
     "data": {
      "image/png": "[encoded data removed]",
      "text/plain": [
       "<Figure size 864x576 with 2 Axes>"
      ]
     },
     "metadata": {
      "needs_background": "light"
     },
     "output_type": "display_data"
    }
   ],
   "source": [
    "# Loss\n",
    "fig, ax1 = plt.subplots(figsize=(12, 8))\n",
    "ax2 = ax1.twinx()\n",
    "\n",
    "f1 = ax1.plot(loss_h[:150], color='darkblue', label='Our Framework')\n",
    "\n",
    "f2 = ax2.plot(losses_[:150], color='crimson', label='PyTorch')\n",
    "\n",
    "fs = f1 + f2\n",
    "labs = [l.get_label() for l in fs]\n",
    "ax1.legend(f1+f2, labs, loc='center right', fontsize=15)\n",
    "\n",
    "ax1.set_xlabel('Epochs', fontsize=15)\n",
    "ax1.set_ylabel('MSE loss', fontsize=15)\n",
    "ax2.set_ylabel('MSE loss Pytorch', fontsize=15)\n",
    "\n",
    "plt.title('Loss evolution during training', fontsize=20)"
   ]
  },
  {
   "cell_type": "code",
   "execution_count": 48,
   "metadata": {},
   "outputs": [
    {
     "data": {
      "text/plain": [
       "Text(0.5, 1.0, 'Loss evolution during training')"
      ]
     },
     "execution_count": 48,
     "metadata": {},
     "output_type": "execute_result"
    },
    {
     "data": {
      "image/png": "[encoded data removed]",
      "text/plain": [
       "<Figure size 864x576 with 4 Axes>"
      ]
     },
     "metadata": {
      "needs_background": "light"
     },
     "output_type": "display_data"
    }
   ],
   "source": [
    "final_fig, ax = plt.subplots(figsize=(12, 8))\n",
    "plt.subplots_adjust(hspace=0.5)\n",
    "\n",
    "ax1 = plt.subplot(2,1,1)\n",
    "ax2 = ax1.twinx()\n",
    "\n",
    "f1 = ax1.plot(acc_h[:60] * 100, color='darkblue', label='Our Framework')\n",
    "\n",
    "f2 = ax2.plot(accuracies_[:60], color='crimson', label='PyTorch')\n",
    "\n",
    "fs = f1 + f2\n",
    "labs = [l.get_label() for l in fs]\n",
    "ax1.legend(f1+f2, labs, loc='lower right', fontsize=15)\n",
    "\n",
    "ax1.set_xlabel('Epochs', fontsize=15)\n",
    "ax1.set_ylabel('Accuracy [%]', fontsize=15)\n",
    "#ax2.set_ylabel('Accuracy [%]', fontsize=15)\n",
    "\n",
    "plt.title('Accuracy evolution during training', fontsize=20)\n",
    "\n",
    "ax1 = plt.subplot(2,1,2)\n",
    "ax2 = ax1.twinx()\n",
    "\n",
    "f1 = ax1.plot(loss_h[:150], color='darkblue', label='Our Framework')\n",
    "\n",
    "f2 = ax2.plot(losses_[:150], color='crimson', label='PyTorch')\n",
    "\n",
    "fs = f1 + f2\n",
    "labs = [l.get_label() for l in fs]\n",
    "ax1.legend(f1+f2, labs, loc='center right', fontsize=15)\n",
    "\n",
    "ax1.set_xlabel('Epochs', fontsize=15)\n",
    "ax1.set_ylabel('MSE loss', fontsize=15)\n",
    "ax2.set_ylabel('MSE loss Pytorch', fontsize=15)\n",
    "\n",
    "plt.title('Loss evolution during training', fontsize=20)\n"
   ]
  },
  {
   "cell_type": "code",
   "execution_count": 49,
   "metadata": {},
   "outputs": [],
   "source": [
    "final_fig.savefig(\"final_fig.png\")"
   ]
  },
  {
   "cell_type": "code",
   "execution_count": null,
   "metadata": {},
   "outputs": [],
   "source": []
  }
 ],
 "metadata": {
  "kernelspec": {
   "display_name": "Python 3",
   "language": "python",
   "name": "python3"
  },
  "language_info": {
   "codemirror_mode": {
    "name": "ipython",
    "version": 3
   },
   "file_extension": ".py",
   "mimetype": "text/x-python",
   "name": "python",
   "nbconvert_exporter": "python",
   "pygments_lexer": "ipython3",
   "version": "3.7.2"
  }
 },
 "nbformat": 4,
 "nbformat_minor": 2
}
